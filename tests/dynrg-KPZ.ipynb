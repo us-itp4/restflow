{
 "cells": [
  {
   "cell_type": "markdown",
   "metadata": {},
   "source": [
    "# Dynamic renormalization group\n",
    "This notebook...\n",
    "$$\\int\\frac{d^dk}{(2\\pi)^d} \\frac{v_2}{k^2(k^2+|\\bm q-\\bm k|^2)}"
   ]
  },
  {
   "cell_type": "code",
   "execution_count": 4,
   "metadata": {},
   "outputs": [
    {
     "ename": "NameError",
     "evalue": "name 'symvec' is not defined",
     "output_type": "error",
     "traceback": [
      "\u001b[1;31m---------------------------------------------------------------------------\u001b[0m",
      "\u001b[1;31mNameError\u001b[0m                                 Traceback (most recent call last)",
      "Cell \u001b[1;32mIn [4], line 10\u001b[0m\n\u001b[0;32m      8\u001b[0m _q, _k, dot_kq \u001b[39m=\u001b[39m sympy\u001b[39m.\u001b[39msymbols(\u001b[39m'\u001b[39m\u001b[39mq k (k·q)\u001b[39m\u001b[39m'\u001b[39m)\n\u001b[0;32m      9\u001b[0m \u001b[39m# assign symbol for dot product\u001b[39;00m\n\u001b[1;32m---> 10\u001b[0m symvec\u001b[39m.\u001b[39mdots[\u001b[39mfrozenset\u001b[39m((_q,_k))] \u001b[39m=\u001b[39m dot_kq\n\u001b[0;32m     11\u001b[0m \u001b[39m# create vectors\u001b[39;00m\n\u001b[0;32m     12\u001b[0m k \u001b[39m=\u001b[39m symvec\u001b[39m.\u001b[39mVector(_k)\n",
      "\u001b[1;31mNameError\u001b[0m: name 'symvec' is not defined"
     ]
    }
   ],
   "source": [
    "import sympy\n",
    "import symvec\n",
    "from IPython.display import display\n",
    "\n",
    "# dimension and reduced surface area\n",
    "d, Kd = sympy.symbols('d K_d')\n",
    "# symbols for vectors\n",
    "_q, _k, dot_kq = sympy.symbols('q k (k·q)')\n",
    "# assign symbol for dot product\n",
    "symvec.dots[frozenset((_q,_k))] = dot_kq\n",
    "# create vectors\n",
    "k = symvec.Vector(_k)\n",
    "q = symvec.Vector(_q)\n",
    "\n",
    "# vertex function\n",
    "def v2(k1,k2):\n",
    "    return -k1*k2\n",
    "\n",
    "def f(k):\n",
    "    return k**2\n",
    "\n",
    "# graphical correction to propagator\n",
    "def Gam1(k,q):\n",
    "    return -v2(k,q-k)*v2(-k,q)/(f(k)*(f(k)+f(q-k)))"
   ]
  },
  {
   "cell_type": "markdown",
   "metadata": {},
   "source": [
    "## Corrections to propagator"
   ]
  },
  {
   "cell_type": "code",
   "execution_count": 2,
   "metadata": {},
   "outputs": [
    {
     "ename": "NameError",
     "evalue": "name 'Gam1' is not defined",
     "output_type": "error",
     "traceback": [
      "\u001b[1;31m---------------------------------------------------------------------------\u001b[0m",
      "\u001b[1;31mNameError\u001b[0m                                 Traceback (most recent call last)",
      "Cell \u001b[1;32mIn [2], line 2\u001b[0m\n\u001b[0;32m      1\u001b[0m \u001b[39m# get integrand for the symmetrized wave vector\u001b[39;00m\n\u001b[1;32m----> 2\u001b[0m I \u001b[39m=\u001b[39m Gam1(\u001b[39m.5\u001b[39m\u001b[39m*\u001b[39mq\u001b[39m+\u001b[39mk,q)\n\u001b[0;32m      3\u001b[0m display(I)\n\u001b[0;32m      4\u001b[0m I \u001b[39m=\u001b[39m symvec\u001b[39m.\u001b[39mintegrate2(I,k,q,d,n\u001b[39m=\u001b[39m\u001b[39m4\u001b[39m)\n",
      "\u001b[1;31mNameError\u001b[0m: name 'Gam1' is not defined"
     ]
    }
   ],
   "source": [
    "# get integrand for the symmetrized wave vector\n",
    "I = Gam1(.5*q+k,q)\n",
    "I = symvec.integrate2(I,k,q,d,n=4)\n",
    "display(I)"
   ]
  },
  {
   "cell_type": "code",
   "execution_count": null,
   "metadata": {},
   "outputs": [],
   "source": []
  }
 ],
 "metadata": {
  "kernelspec": {
   "display_name": "Python 3.10.8 64-bit (microsoft store)",
   "language": "python",
   "name": "python3"
  },
  "language_info": {
   "codemirror_mode": {
    "name": "ipython",
    "version": 3
   },
   "file_extension": ".py",
   "mimetype": "text/x-python",
   "name": "python",
   "nbconvert_exporter": "python",
   "pygments_lexer": "ipython3",
   "version": "3.10.9"
  },
  "orig_nbformat": 4,
  "vscode": {
   "interpreter": {
    "hash": "3147b5f9c6158a44fc6c92fdd5b7356dc6ea2dcc437edc0b017c6c528bc4e411"
   }
  }
 },
 "nbformat": 4,
 "nbformat_minor": 2
}

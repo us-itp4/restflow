{
 "cells": [
  {
   "cell_type": "code",
   "execution_count": null,
   "metadata": {},
   "outputs": [],
   "source": [
    "import sympy\n",
    "from sympy import *\n",
    "\n",
    "x,y= sympy.symbols('x y')\n",
    "n=4\n",
    "expr=x**2+y**2+y**3+x**3+y**2*x**2+y**2*x+x*y+x**2+y**2+x+y+x**4\n",
    "display(expr+O(x**n)+O(y**n)+sum([O(x**i*y**(n-i)) for i in range(0,n)]))\n"
   ]
  },
  {
   "cell_type": "code",
   "execution_count": null,
   "metadata": {},
   "outputs": [],
   "source": [
    "import sympy\n",
    "from sympy import *\n",
    "from itertools import product\n",
    "\n",
    "\n",
    "def remove_hot(expr,n,x,y,z):\n",
    "    a=product([str(x),str(y),str(z)], repeat=n)\n",
    "    monomials=list(map(lambda x: '*'.join(x), a))\n",
    "    expr=expr+O(x**n)+O(y**n)+O(z**n)+sum([O(monomials) for monomials in monomials])\n",
    "    expr=expr.removeO()\n",
    "    expr=expr+sum([O(x**i*y**(n-i)) for i in range(0,n)])\n",
    "    expr=expr.removeO()\n",
    "    expr=expr+sum([O(z**i*y**(n-i)) for i in range(0,n)])\n",
    "    expr=expr.removeO()\n",
    "    return expr\n",
    "\n",
    "p,q,r= sympy.symbols('p q r')\n",
    "n=4\n",
    "\n",
    "expr=p**2+q**2+r**2+r+p*q*r+q**3+p**3+q**2*p**2+q**2*p+p*q+p**2+q**2+p+q+p**4+r**2*q**2\n",
    "expr=remove_hot(expr,n,p,q,r)\n",
    "display(expr)\n",
    "#+sum([O(x**i*y**(n-i)) for i in range(0,n)])+sum([O(x**i*z**(n-i)) for i in range(0,n)])+sum([O(z**i*y**(n-i)) for i in range(0,n)]))\n"
   ]
  },
  {
   "cell_type": "code",
   "execution_count": 18,
   "metadata": {},
   "outputs": [
    {
     "name": "stdout",
     "output_type": "stream",
     "text": [
      "x+y+x-y-(z+z+1+z+2)\n"
     ]
    }
   ],
   "source": [
    "\n",
    "#x,y= symbols('x y')\n",
    "a='x'\n",
    "b='y'\n",
    "c='x-y'\n",
    "d='z'\n",
    "e='z+1'\n",
    "f='z+2'\n",
    "array=[a,b,c]\n",
    "array2=[d,e,f]\n",
    "print(\"+\".join(array)+'-('+('+'.join(array2))+')')\n"
   ]
  }
 ],
 "metadata": {
  "kernelspec": {
   "display_name": "Python 3",
   "language": "python",
   "name": "python3"
  },
  "language_info": {
   "codemirror_mode": {
    "name": "ipython",
    "version": 3
   },
   "file_extension": ".py",
   "mimetype": "text/x-python",
   "name": "python",
   "nbconvert_exporter": "python",
   "pygments_lexer": "ipython3",
   "version": "3.10.9 (tags/v3.10.9:1dd9be6, Dec  6 2022, 20:01:21) [MSC v.1934 64 bit (AMD64)]"
  },
  "orig_nbformat": 4,
  "vscode": {
   "interpreter": {
    "hash": "3147b5f9c6158a44fc6c92fdd5b7356dc6ea2dcc437edc0b017c6c528bc4e411"
   }
  }
 },
 "nbformat": 4,
 "nbformat_minor": 2
}

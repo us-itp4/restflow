{
 "cells": [
  {
   "cell_type": "code",
   "execution_count": null,
   "metadata": {},
   "outputs": [],
   "source": [
    "import sys\n",
    "from IPython.display import Image, display\n",
    "import sympy\n",
    "\n",
    "sys.path.append('..')   # path for local package\n",
    "import restflow\n",
    "from restflow import symvec\n",
    "from restflow import symtools"
   ]
  },
  {
   "attachments": {},
   "cell_type": "markdown",
   "metadata": {},
   "source": [
    "# Example 2: Neural Networks"
   ]
  },
  {
   "attachments": {},
   "cell_type": "markdown",
   "metadata": {},
   "source": [
    "The Wilson-Cowan model is a standard model in neuroscience that describes the evolution of the neural activity field $\\phi$; how excitatory and inhibitory neurons interact with each other <sup>1</sup>. In [Tiberi 2022] <sup>2</sup>, they study the model beyond mean-field analysis. They use perturbation theory to express the neural field in a polynomial stochastic PDE similar to the KPZ model. The higher orders of this expansion are assumed to be negligible since the dynamics explore a limited range of the gain function. Based on these, they show that the dynamics evolve according to:\n",
    "\\begin{equation*}\n",
    "\\partial_t\\phi = \\nabla^2(\\kappa \\phi + c_2 \\phi^2 + c_3 \\phi^3) + \\eta\n",
    "\\end{equation*}\n",
    "with non-conserved noise ($\\alpha=0$). The field $\\phi$ is the neural activity field. The $\\nabla^2$ in the front of the RHS denotes that these interactions are described by a diffusive process. The terms with $\\kappa$, $c_2$ and $c_3$ come from polynomial expansion up to order 3 of the gain function of the Wilson-Cowan model.\n",
    "\n",
    "The goal is to study the criticality of the computational features of the system such as the decay of the memory or pattern retrieval. For this, they use Wilson's shell renormalization theory by calculating the flow equations of $\\kappa$, $c_2$ and $c_3$.\n",
    "\n",
    "We follow same procedure as in the KPZ by switching to Fourier space. The only non-zero vertices are:\n",
    "\\begin{equation*}\n",
    "\\cal{v}_2(\\bold{q}) = - c_2 \\bold{q}^2,\n",
    "\\end{equation*}\n",
    "and \n",
    "\\begin{equation*}\n",
    "\\cal{v}_3(\\bold{q}) = - c_3 \\bold{q}^2\n",
    "\\end{equation*}\n",
    "\n",
    "This practically means that the graphs can have 2-vertices and 3-vertices. This significantly increases the variety of graphs we have compared to the KPZ example. Below, we use ```restflow`` to calculate all of these graphs."
   ]
  },
  {
   "attachments": {},
   "cell_type": "markdown",
   "metadata": {},
   "source": [
    "<b><ins>1st Step:</b></ins> Define the model parameters, the vectors, the propagators and the vertex functions. Remark that we set the external legs with zero because all corrections are of order $q^2$- we do not need graphical corrections of terms that depend on the other external legs."
   ]
  },
  {
   "cell_type": "code",
   "execution_count": null,
   "metadata": {},
   "outputs": [],
   "source": [
    "# define the model\n",
    "class Neural_network:\n",
    "    def __init__(self):\n",
    "        self.alpha = 0\n",
    "        self.kap, self.c2, self.c3, self.D = sympy.symbols('kappa c2 c3 D')\n",
    "\n",
    "    def f(self,k):\n",
    "        return self.kap*k**2\n",
    "\n",
    "    def v2(self,k1,k2,q):\n",
    "        return (-self.c2*q**2,1)\n",
    "\n",
    "    def v3(self,k1,k2,k3,q):\n",
    "        return (-self.c3*q**2,1)\n",
    "# dimension and reduced surface area\n",
    "d, Kd = sympy.symbols('d K_d')\n",
    "# symbols for vectors - We set p and r equal to 0\n",
    "_q, _k, _p, dot_kq, dot_pk, dot_qp = sympy.symbols('q k 0 (k·q) 0 0')\n",
    "_r, dot_qr, dot_pr, dot_rk = sympy.symbols('0 0 0 0')\n",
    "\n",
    "ctx = symvec.Context()\n",
    "ctx.add_dot_product(_q,_k,dot_kq)\n",
    "ctx.add_dot_product(_q,_p,dot_qp)\n",
    "ctx.add_dot_product(_p,_k,dot_pk)\n",
    "ctx.add_dot_product(_q,_r,dot_qr)\n",
    "ctx.add_dot_product(_p,_r,dot_pr)\n",
    "ctx.add_dot_product(_r,_k,dot_rk)\n",
    "# create symbolic wave vectors\n",
    "k = ctx.vector(_k)\n",
    "q = ctx.vector(_q)\n",
    "p = ctx.vector(_p)\n",
    "r = ctx.vector(_r)\n",
    "\n",
    "model = Neural_network()"
   ]
  },
  {
   "attachments": {},
   "cell_type": "markdown",
   "metadata": {},
   "source": [
    "# Propagator Corrections"
   ]
  },
  {
   "attachments": {},
   "cell_type": "markdown",
   "metadata": {},
   "source": [
    "The only one-loop graphs are the following ones:"
   ]
  },
  {
   "cell_type": "code",
   "execution_count": null,
   "metadata": {},
   "outputs": [],
   "source": [
    "pil_img = Image(filename='./figures/modelB_plus_1vertex.jpg')\n",
    "display(pil_img)"
   ]
  },
  {
   "attachments": {},
   "cell_type": "markdown",
   "metadata": {},
   "source": [
    "<b><ins>2nd Step:</b></ins> Create the graph using the `plot_graph` script. Convert graph into integral using ```convert``` and calulate the integral using ```integrate```:"
   ]
  },
  {
   "cell_type": "code",
   "execution_count": null,
   "metadata": {},
   "outputs": [],
   "source": [
    "# graph (2c)\n",
    "v = [restflow.Vertex() for i in range(3)]\n",
    "v[0].link_vertex(v[1],0.0)\n",
    "v[0].link_vertex(v[2],0.0)\n",
    "v[2].link_vertex(v[1],0.12)\n",
    "v[2].add_outgoing(0.0)\n",
    "g = restflow.Graph(v)\n",
    "g.label_edges(k,[q])\n",
    "expr = g.convert(model,[q])\n",
    "I2c = restflow.integrate([expr],3,k,q)\n",
    "v = [restflow.Vertex() for i in range(2)]\n",
    "v[0].link_vertex(v[1],0.0)\n",
    "v[0].link_vertex(v[1],0.12)\n",
    "v[0].add_outgoing(0.0)\n",
    "g = restflow.Graph(v)\n",
    "g.label_edges(k,[q])\n",
    "expr = g.convert(model,[q])\n",
    "I3b = restflow.integrate([expr],3,k,q)\n"
   ]
  },
  {
   "attachments": {},
   "cell_type": "markdown",
   "metadata": {},
   "source": [
    "Add the contribution of both diagrams, this is the full graphical correction to the propagator:"
   ]
  },
  {
   "cell_type": "code",
   "execution_count": null,
   "metadata": {},
   "outputs": [],
   "source": [
    "Iprop = sympy.simplify(I2c+I3b)\n",
    "display(Iprop)"
   ]
  },
  {
   "attachments": {},
   "cell_type": "markdown",
   "metadata": {},
   "source": [
    "# 2-Vertex Corrections"
   ]
  },
  {
   "attachments": {},
   "cell_type": "markdown",
   "metadata": {},
   "source": [
    "The only 1-loop diagrams contributing to 2-vertex are:"
   ]
  },
  {
   "cell_type": "code",
   "execution_count": null,
   "metadata": {},
   "outputs": [],
   "source": [
    "pil_img = Image(filename='./figures/modelB_plus_2vertex.jpg')\n",
    "display(pil_img)"
   ]
  },
  {
   "attachments": {},
   "cell_type": "markdown",
   "metadata": {},
   "source": [
    "We follow the same method for the propagator. The difference is that before we ```integrate```, we use the function ```convert_perm``` because e.g. figures (b) and (d) represent multiple graphs (by permuting the labels of the external legs). "
   ]
  },
  {
   "cell_type": "code",
   "execution_count": null,
   "metadata": {},
   "outputs": [],
   "source": [
    "# graph (a)\n",
    "v = [restflow.Vertex() for i in range(4)]\n",
    "v[0].link_vertex(v[1], 0.0)\n",
    "v[0].link_vertex(v[2], 0.12)\n",
    "v[1].link_vertex(v[3], 0.0)\n",
    "v[2].link_vertex(v[3], 0.0)\n",
    "v[1].add_outgoing(-0.12)\n",
    "v[2].add_outgoing(0.12)\n",
    "g = restflow.Graph(v)\n",
    "exprs = g.convert_perm(model,k,[p,q-p])\n",
    "Ia = restflow.integrate(exprs,3,k,q,p)\n",
    "# graph (b)\n",
    "v = [restflow.Vertex() for i in range(4)]\n",
    "v[0].link_vertex(v[1], 0.12)\n",
    "v[0].link_vertex(v[2], 0.0)\n",
    "v[2].link_vertex(v[3], 0.0)\n",
    "v[3].link_vertex(v[1], 0.0)\n",
    "v[2].add_outgoing(-0.12)\n",
    "v[3].add_outgoing(-0.12)\n",
    "g = restflow.Graph(v)\n",
    "exprs = g.convert_perm(model,k,[p,q-p])\n",
    "Ib = restflow.integrate(exprs,3,k,q,p)\n",
    "# graph (c)\n",
    "v = [restflow.Vertex() for i in range(3)]\n",
    "v[0].link_vertex(v[1], 0.12)\n",
    "v[0].link_vertex(v[2], 0.0)\n",
    "v[2].link_vertex(v[1], 0.0)\n",
    "v[2].add_outgoing(0.0)\n",
    "v[2].add_outgoing(-0.12)\n",
    "g = restflow.Graph(v)\n",
    "exprs = g.convert_perm(model,k,[p,q-p])\n",
    "Ic = restflow.integrate(exprs,3,k,q,p)\n",
    "# graph (d)\n",
    "v = [restflow.Vertex() for i in range(3)]\n",
    "v[0].link_vertex(v[1], 0.12)\n",
    "v[0].link_vertex(v[2], 0.0)\n",
    "v[2].link_vertex(v[1], 0.0)\n",
    "v[0].add_outgoing(-0.12)\n",
    "v[2].add_outgoing(0.0)\n",
    "g = restflow.Graph(v)\n",
    "exprs = g.convert_perm(model,k,[p,q-p])\n",
    "Id = restflow.integrate(exprs,3,k,q,p)"
   ]
  },
  {
   "attachments": {},
   "cell_type": "markdown",
   "metadata": {},
   "source": [
    "We sum the contribution of the integrals for the 2-vertex corrections:"
   ]
  },
  {
   "cell_type": "code",
   "execution_count": null,
   "metadata": {},
   "outputs": [],
   "source": [
    "I2vert = sympy.simplify(Ia+Ib+Ic+Id)\n",
    "display(I2vert)"
   ]
  },
  {
   "attachments": {},
   "cell_type": "markdown",
   "metadata": {},
   "source": [
    "# 3-Vertex Corrections"
   ]
  },
  {
   "attachments": {},
   "cell_type": "markdown",
   "metadata": {},
   "source": [
    "The graphs which contribute to 3-vertex corrections are the following ones:"
   ]
  },
  {
   "cell_type": "code",
   "execution_count": null,
   "metadata": {},
   "outputs": [],
   "source": [
    "pil_img = Image(filename='./figures/modelB_plus_3vertex.jpg')\n",
    "display(pil_img)"
   ]
  },
  {
   "attachments": {},
   "cell_type": "markdown",
   "metadata": {},
   "source": [
    "We follow the same procedure as described above: "
   ]
  },
  {
   "cell_type": "code",
   "execution_count": null,
   "metadata": {},
   "outputs": [],
   "source": [
    "# figure (3c)\n",
    "v = [restflow.Vertex() for i in range(3)]\n",
    "v[0].link_vertex(v[1], 0.12)\n",
    "v[0].link_vertex(v[2], 0.0)\n",
    "v[2].link_vertex(v[1], 0.0)\n",
    "v[0].add_outgoing(-0.12)\n",
    "v[2].add_outgoing(0.12)\n",
    "v[2].add_outgoing(-0.12)\n",
    "g = restflow.Graph(v)\n",
    "exprs = g.convert_perm(model,k,[p,r,q-p-r])\n",
    "I3c = restflow.integrate(exprs,3,k,q,p)\n",
    "# figure (e)\n",
    "v = [restflow.Vertex() for i in range(4)]\n",
    "v[0].link_vertex(v[1], 0.0)\n",
    "v[1].link_vertex(v[2], 0.0)\n",
    "v[0].link_vertex(v[3], 0.12)\n",
    "v[3].link_vertex(v[2], 0.0)\n",
    "v[0].add_outgoing(-0.12)\n",
    "v[1].add_outgoing(-0.12)\n",
    "v[3].add_outgoing(0.12)\n",
    "g = restflow.Graph(v)\n",
    "exprs = g.convert_perm(model,k,[p,r,q-p-r])\n",
    "Ie = restflow.integrate(exprs,3,k,q,p)\n",
    "# figure (f)\n",
    "v = [restflow.Vertex() for i in range(4)]\n",
    "v[0].link_vertex(v[1], 0.0)\n",
    "v[0].link_vertex(v[2], 0.12)\n",
    "v[2].link_vertex(v[3], 0.12)\n",
    "v[3].link_vertex(v[1], 0.0)\n",
    "v[0].add_outgoing(-0.12)\n",
    "v[2].add_outgoing(0.0)\n",
    "v[3].add_outgoing(-0.12)\n",
    "g = restflow.Graph(v)\n",
    "exprs = g.convert_perm(model,k,[p,r,q-p-r])\n",
    "If = restflow.integrate(exprs,3,k,q,p)\n",
    "# figure (g)\n",
    "v = [restflow.Vertex() for i in range(4)]\n",
    "v[0].link_vertex(v[1], 0.0)\n",
    "v[1].link_vertex(v[2], 0.12)\n",
    "v[0].link_vertex(v[3], 0.12)\n",
    "v[3].link_vertex(v[2], 0.0)\n",
    "v[1].add_outgoing(-0.12)\n",
    "v[1].add_outgoing(-0.25)\n",
    "v[3].add_outgoing(0.12)\n",
    "g = restflow.Graph(v)\n",
    "exprs = g.convert_perm(model,k,[p,r,q-p-r])\n",
    "Ig = restflow.integrate(exprs,3,k,q,p)\n",
    "# figure (h)\n",
    "v = [restflow.Vertex() for i in range(4)]\n",
    "v[0].link_vertex(v[1], 0.12)\n",
    "v[0].link_vertex(v[2], 0.0)\n",
    "v[2].link_vertex(v[3], 0.0)\n",
    "v[3].link_vertex(v[1], 0.12)\n",
    "v[3].add_outgoing(0.0)\n",
    "v[3].add_outgoing(-0.12)\n",
    "v[2].add_outgoing(-0.12)\n",
    "g = restflow.Graph(v)\n",
    "exprs = g.convert_perm(model,k,[p,r,q-p-r])\n",
    "Ih = restflow.integrate(exprs,3,k,q,p)\n",
    "# figure (i)\n",
    "v = [restflow.Vertex() for i in range(4)]\n",
    "v[0].link_vertex(v[1], 0.12)\n",
    "v[0].link_vertex(v[2], 0.0)\n",
    "v[2].link_vertex(v[3], 0.0)\n",
    "v[3].link_vertex(v[1], 0.12)\n",
    "v[2].add_outgoing(-0.12)\n",
    "v[2].add_outgoing(0.12)\n",
    "v[3].add_outgoing(-0.12)\n",
    "g = restflow.Graph(v)\n",
    "exprs = g.convert_perm(model,k,[p,r,q-p-r])\n",
    "Ii = restflow.integrate(exprs,3,k,q,p)\n",
    "# figure (j)\n",
    "v = [restflow.Vertex() for i in range(5)]\n",
    "v[0].link_vertex(v[1], 0.0)\n",
    "v[1].link_vertex(v[2], 0.0)\n",
    "v[2].link_vertex(v[3], 0.0)\n",
    "v[0].link_vertex(v[4], 0.12)\n",
    "v[4].link_vertex(v[3], 0.0)\n",
    "v[1].add_outgoing(-0.12)\n",
    "v[2].add_outgoing(-0.12)\n",
    "v[4].add_outgoing(0.12)\n",
    "g = restflow.Graph(v)\n",
    "exprs = g.convert_perm(model,k,[p,r,q-p-r])\n",
    "Ij = restflow.integrate(exprs,3,k,q,p)\n",
    "# figure (k)\n",
    "v = [restflow.Vertex() for i in range(5)]\n",
    "v[0].link_vertex(v[1], 0.12)\n",
    "v[0].link_vertex(v[2], 0.0)\n",
    "v[2].link_vertex(v[3], 0.0)\n",
    "v[3].link_vertex(v[4], 0.0)\n",
    "v[4].link_vertex(v[1], 0.0)\n",
    "v[2].add_outgoing(-0.12)\n",
    "v[3].add_outgoing(-0.12)\n",
    "v[4].add_outgoing(-0.12)\n",
    "g = restflow.Graph(v)\n",
    "exprs = g.convert_perm(model,k,[p,r,q-p-r])\n",
    "Ik = restflow.integrate(exprs,3,k,q,p)"
   ]
  },
  {
   "attachments": {},
   "cell_type": "markdown",
   "metadata": {},
   "source": [
    "We sum all of the contributions to 3-vertex corrections. The function ```sympy.Poly().as_expr()``` is used to factorize the expression wrt $q^2$:"
   ]
  },
  {
   "cell_type": "code",
   "execution_count": null,
   "metadata": {},
   "outputs": [],
   "source": [
    "I3vert = sympy.Poly(Ie+If+Ig+Ih+Ii+Ij+Ik+I3c,q.sym).as_expr()\n",
    "display(I3vert)"
   ]
  },
  {
   "attachments": {},
   "cell_type": "markdown",
   "metadata": {},
   "source": [
    "# Extracting the Corrections of the Model Parameters"
   ]
  },
  {
   "attachments": {},
   "cell_type": "markdown",
   "metadata": {},
   "source": [
    "We just calculated the corrections to the <b>propagator, 2-vertex and 3-vertex</b>. \n",
    "The graphically corrected model parameters $\\tilde{x}_i$ are defined wrt the original model parameters $x_i$ as:\n",
    "\\begin{equation*}\n",
    "\\tilde{x}_i=(1+\\psi_{x_i}\\delta l)x_i.\n",
    "\\end{equation*}\n",
    "The goal now is to find the corrections $\\psi_{x_i}$ with respect to the integrals we just calculated.\n",
    "For this, we need to:\n",
    "-   Define the graphically corrected vertices (with graphically corrected parameters)\n",
    "-   Solve linear equations derived by comparing the coefficients of the monomials of the original vertices with those of the renormalized vertices (see Appendix C of our manuscript)\n"
   ]
  },
  {
   "cell_type": "code",
   "execution_count": null,
   "metadata": {},
   "outputs": [],
   "source": [
    "# define graphically corrected model parameters\n",
    "kapt, c1tilda, c2tilda, c3tilda, Dtilda = sympy.symbols('kappat c1t c2t c3t Dt')\n",
    "\n",
    "# define graphically corrected vertices\n",
    "def v2tilda(k1,k2,k):\n",
    "    expr = -c2tilda*k**2\n",
    "    return sympy.fraction(sympy.cancel(expr))\n",
    "\n",
    "def v3tilda(k1,k2,k3,k):\n",
    "    return (-c3tilda*k**2,1)\n",
    "\n",
    "def compare_coeffs(dict1,dict_original,k,q,p):\n",
    "    \"\"\"\n",
    "    Returns equations between the renormalized model parameters and the original model parameters\n",
    "\n",
    "    Arguments:\n",
    "      dict1 (dictionary): dictionary of coefficients of all monomials wrt (k, q, p) of new corrected vertex\n",
    "      dict_original (dictionary): dictionary of coefficients of all monomials wrt (k, q, p) of integrals contributions\n",
    "      k, q, p (vectors): wavectors\n",
    "    Returns:\n",
    "      equations (array): linear equations to express graphical corrections wrt integral contributions\n",
    "    \"\"\"\n",
    "    eqts = [0]*len(dict1)\n",
    "    i=0\n",
    "    for key in dict1:\n",
    "        eqts[i]= dict1.get(key) - dict_original.get(key)\n",
    "        i+=1\n",
    "    eqts = [i for i in eqts if i != 0]\n",
    "    return eqts\n",
    "\n",
    "def expand_vertex(expr, q):\n",
    "    \"\"\"\n",
    "    Expands the coefficients of the renormalized 2-vertex\n",
    "\n",
    "    Arguments:\n",
    "      expr (symbolic expression): vertex or integral contributions\n",
    "    Returns:\n",
    "      dictionary: coefficients of all monomials of multivariate polynomial (k, q, p)\n",
    "    \"\"\"\n",
    "    return symtools.all_coeffs(expr,[q.sym])\n",
    "\n",
    "def renormalize_vertex(expr,vertex,k,q,p):\n",
    "    \"\"\"\n",
    "    Matches the coefficients of the 2-vertex with the renormalized 2-vertex. Solves the system of linear eqts.\n",
    "\n",
    "    Arguments:\n",
    "      expr (symbolic expression): integral contributions\n",
    "      vertex (symbolic expression): the graphically corrected vertex\n",
    "      k, q, p (vectors): wavectors\n",
    "    Returns:\n",
    "      list: graphical corrections to coefficients of the monomials \n",
    "    \"\"\"\n",
    "    delta_l = sympy.symbols('δl')\n",
    "\n",
    "    coeffs = expand_vertex(expr,q)\n",
    "    coeffs_original = expand_vertex(vertex[0]/vertex[1],q)\n",
    "    eqts = compare_coeffs(coeffs,coeffs_original,k,q,p)\n",
    "    if vertex == v2tilda(q,q,q):\n",
    "        print(eqts)\n",
    "        return [sympy.simplify(element/(model.c2*delta_l)) for element in list(sympy.linsolve(eqts, [c2tilda]))[0]]\n",
    "    elif vertex == v3tilda(q,q,q,q):\n",
    "        return [sympy.simplify(element/(model.c3*delta_l)) for element in list(sympy.linsolve(eqts, [c3tilda]))[0]]"
   ]
  },
  {
   "attachments": {},
   "cell_type": "markdown",
   "metadata": {},
   "source": [
    "For the $\\phi_\\kappa$ we use the following relationship:\n",
    "\\begin{equation*}\n",
    "\\frac{1}{\\tilde{f}(q)}=\\frac{1}{f(q)}+I, \n",
    "\\end{equation*}\n",
    "and by taylor expanding, we get:\n",
    "\\begin{equation*}\n",
    "\\tilde{f}(k)\\approx f(k)-I, \n",
    "\\end{equation*}\n",
    "where $I$ is the integrals we calculated earlier for the propagators."
   ]
  },
  {
   "attachments": {},
   "cell_type": "markdown",
   "metadata": {},
   "source": [
    "Using the corrections to the propagators, we get that $\\psi_\\kappa$ is:"
   ]
  },
  {
   "cell_type": "code",
   "execution_count": null,
   "metadata": {},
   "outputs": [],
   "source": [
    "from IPython.display import Latex\n",
    "display(Latex('$\\psi_\\kappa=$'),sympy.simplify(-Iprop/(model.kap*q**2)))"
   ]
  },
  {
   "attachments": {},
   "cell_type": "markdown",
   "metadata": {},
   "source": [
    "Similarly, we get for the 2-vertex and 3-vertex:"
   ]
  },
  {
   "cell_type": "code",
   "execution_count": null,
   "metadata": {},
   "outputs": [],
   "source": [
    "from IPython.display import Latex\n",
    "# renormalize c2 parameter\n",
    "psi_2 = renormalize_vertex(I2vert,v2tilda(q,q,q),k,q,p)[0]\n",
    "display(Latex('$\\psi_2=$'),psi_2)\n",
    "# renormalize c3 parameter\n",
    "psi_3 = renormalize_vertex(I3vert,v3tilda(q,q,q,q),k,q,p)[0]\n",
    "display(Latex('$\\psi_3=$'),psi_3)\n"
   ]
  },
  {
   "attachments": {},
   "cell_type": "markdown",
   "metadata": {},
   "source": [
    "## Example how to get flow equations from $\\psi_i$ corrections"
   ]
  },
  {
   "attachments": {},
   "cell_type": "markdown",
   "metadata": {},
   "source": [
    "Now that we have calculated the corrections to the propagator, 2-vertex and 3-vertex, we can get the flow equations of the model parameters. \n",
    "\n",
    "<b><ins>1st Step</b></ins>: <b>Restore the cut-off of our theory through rescaling $\\Lambda/b \\rightarrow \\Lambda$ </b>. <br> For this, we need to calculate the scaling dimension $\\Delta_{x_i}$ of each model parameter $x_i$; this can be found by dimensional analysis (see Section 2.3). Therefore, the renormalized model parameters become: $x_i'=b^{\\Delta_{x_i}}\\tilde{x}_i$. \n",
    "\n",
    "<b><ins>2nd Step</b></ins>: <b>Get Wilson's flow equations for rescaled model parameters</b>. <br> Using the previous equation between $\\bar{x}_i$ and $x_i$ and for $b=1+\\delta l$, we get:\n",
    "\\begin{equation*}\n",
    "\\partial_l x_i=(\\Delta_{x_i}+\\psi_{x_i})x_i\n",
    "\\end{equation*}\n",
    "\n",
    "The problem with this approach is that, in principle, dimensional analysis gives relationships between the scaling dimensions of the model parameters but not exclusively one value. Therefore, the final flow equations are expressed through reduced \"dimensionless\" model parameters. \n",
    "\n",
    "<b><ins>3rd Step</b></ins>: <b>Get flow equations for dimensionless model parameters</b>.  <br>\n",
    "As an example, from dimensional analysis we get $\\Delta_{c_3}+\\Delta_D -2 \\Delta_\\kappa= 2-d$. Therefore we introduce dimensionless variable $\\bar{c}_3=\\frac{c_3 D}{\\kappa^2} K_d \\Lambda^{d-2}$. Using chain rule and the flow equations of $c_3$ and $\\kappa$ and $D$, we can get the flow equation of $\\bar{c}_3$:\n",
    "\\begin{equation*}\n",
    "\\partial_l \\bar{c}_3 = \\bigg(\\frac{\\partial_l c_3}{c_3} - 2 \\frac{\\partial_l \\kappa}{\\kappa} + \\frac{\\partial_l D}{D}\\bigg) \\bar{c}_3 = \\bigg(\\Delta_{c_3}+\\Delta_D-2\\Delta_\\kappa+\\psi_{c_3}-2\\psi_{\\kappa}\\bigg)\\bar{c}_3 = \\bigg(2-d+\\psi_{c_3}-2\\psi_{\\kappa}\\bigg)\\bar{c}_3\n",
    "\\end{equation*}\n",
    "\n",
    "The program calculates the corrections $\\psi_{x_i}$ but at this stage it is up to the user to apply the dimensional analysis for the flow equations of the dimensionless parameters.\n"
   ]
  },
  {
   "attachments": {},
   "cell_type": "markdown",
   "metadata": {},
   "source": [
    "# Bibliography"
   ]
  },
  {
   "attachments": {},
   "cell_type": "markdown",
   "metadata": {},
   "source": [
    "<sup>1</sup> Wilson, Hugh R., and Jack D. Cowan. \"Excitatory and inhibitory interactions in localized populations of model neurons.\" Biophysical journal 12.1 (1972): 1-24.\n",
    "\n",
    "<sup>2</sup> L. Tiberi, J. Stapmanns, T. Kühn, T. Luu, D. Dahmen and M. Helias, Gell-\n",
    "Mann–Low Criticality in Neural Networks, Phys. Rev. Lett. 128(16), 168301 (2022)"
   ]
  }
 ],
 "metadata": {
  "kernelspec": {
   "display_name": "Python 3",
   "language": "python",
   "name": "python3"
  },
  "language_info": {
   "codemirror_mode": {
    "name": "ipython",
    "version": 3
   },
   "file_extension": ".py",
   "mimetype": "text/x-python",
   "name": "python",
   "nbconvert_exporter": "python",
   "pygments_lexer": "ipython3",
   "version": "3.10.10"
  },
  "orig_nbformat": 4,
  "vscode": {
   "interpreter": {
    "hash": "3147b5f9c6158a44fc6c92fdd5b7356dc6ea2dcc437edc0b017c6c528bc4e411"
   }
  }
 },
 "nbformat": 4,
 "nbformat_minor": 2
}

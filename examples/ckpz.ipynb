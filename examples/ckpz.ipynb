{
 "cells": [
  {
   "cell_type": "code",
   "execution_count": null,
   "metadata": {},
   "outputs": [],
   "source": [
    "import sys\n",
    "from IPython.display import Image, display\n",
    "import sympy\n",
    "sys.path.append('..')   # path for local package\n",
    "import restflow\n",
    "from restflow import symvec, symtools"
   ]
  },
  {
   "attachments": {},
   "cell_type": "markdown",
   "metadata": {},
   "source": [
    "# cKPZ equation"
   ]
  },
  {
   "attachments": {},
   "cell_type": "markdown",
   "metadata": {},
   "source": [
    "The cKPZ equation is given by:\n",
    "\\begin{equation*}\n",
    "\\partial_t\\phi = -\\kappa \\nabla^4\\phi + c_2 \\nabla^2 |\\nabla\\phi|^2  + \\eta,\n",
    "\\end{equation*}\n",
    "with conserved noise. The quantity $\\phi$ denotes the coarse-grained height field and describes the dynamics of the surface growth for conservative dynamics. For more on the physics of cKPZ, see Section I.2 from the accompanied manuscript.\n",
    "\n",
    "\n",
    "We will only consider 1-loop graphs. For more loops, their contributions are of higher order in the perturbation series. \n",
    "\n",
    "Let's go back to the cKPZ case. The only relevant one-loop graph correcting the propagator for this example is:"
   ]
  },
  {
   "cell_type": "code",
   "execution_count": null,
   "metadata": {},
   "outputs": [],
   "source": [
    "pil_img = Image(filename='./figures/kpz_graph.jpg')\n",
    "display(pil_img)"
   ]
  },
  {
   "attachments": {},
   "cell_type": "markdown",
   "metadata": {},
   "source": [
    "The goal of this program is to translate these graphs into nested integrals and then to solve these integrals in the spirit of Wilson's shell renormalization to obtain the corrections of the vertex functions. Below are the steps to achieve this applied to the cKPZ model."
   ]
  },
  {
   "attachments": {},
   "cell_type": "markdown",
   "metadata": {},
   "source": [
    "<b><ins>1st Step:</b></ins> Define the model parameters, the vectors, the propagators and the vertex functions:"
   ]
  },
  {
   "cell_type": "code",
   "execution_count": null,
   "metadata": {},
   "outputs": [],
   "source": [
    "# define the model\n",
    "class cKPZ:\n",
    "    def __init__(self):\n",
    "        self.alpha = 2\n",
    "        self.c2, self.kap, self.D = sympy.symbols('c2 kappa D')\n",
    "\n",
    "    def f(self,k):\n",
    "        return self.kap*k**4\n",
    "\n",
    "    def v2(self,k1,k2,q):\n",
    "        return (self.c2*k1*k2*q**2,1)\n",
    "\n",
    "# symbols for vectors\n",
    "_q, _k, dot_kq = sympy.symbols('q k (k·q)')\n",
    "# saves the vectors and dot products in a class\n",
    "ctx = restflow.Context()\n",
    "ctx.add_dot_product(_q,_k,dot_kq)\n",
    "# create symbolic wave vectors\n",
    "k = ctx.vector(_k)\n",
    "q = ctx.vector(_q)\n",
    "\n",
    "model = cKPZ()"
   ]
  },
  {
   "attachments": {},
   "cell_type": "markdown",
   "metadata": {},
   "source": [
    "<b><ins>2nd Step:</b></ins> Create the graph:"
   ]
  },
  {
   "cell_type": "code",
   "execution_count": null,
   "metadata": {},
   "outputs": [],
   "source": [
    "v = [restflow.Vertex() for i in range(3)]\n",
    "v[0].link_vertex(v[2], angle=0.12)\n",
    "v[0].link_vertex(v[1], 0.0)\n",
    "v[1].link_vertex(v[2], 0.0)\n",
    "v[1].add_outgoing(0.0)\n",
    "g = restflow.Graph(v)"
   ]
  },
  {
   "attachments": {},
   "cell_type": "markdown",
   "metadata": {},
   "source": [
    "<b><ins>3rd Step:</b></ins> Label the graph by giving an input `labels` and using `label_edges`. \n",
    "(Optional): Visualize it using `plot_graph`. Create a LaTeX file for nicer rendering using `export_latex_graph`:"
   ]
  },
  {
   "cell_type": "code",
   "execution_count": null,
   "metadata": {},
   "outputs": [],
   "source": [
    "labels = [k, q] # input array of sink vector and outgoing legs\n",
    "g.label_edges(labels)\n",
    "g.plot_graph()\n",
    "# g.export_latex_graph('graph_plot')"
   ]
  },
  {
   "attachments": {},
   "cell_type": "markdown",
   "metadata": {},
   "source": [
    "<b><ins>4th Step:</b></ins> Convert graph into integral using ```convert```."
   ]
  },
  {
   "cell_type": "code",
   "execution_count": null,
   "metadata": {},
   "outputs": [],
   "source": [
    "# change of coordinates by renaming the labels\n",
    "labels = [k, q] # input array of sink vector and outgoing legs\n",
    "g.label_edges(labels)\n",
    "expr = g.convert(model)\n",
    "display(expr.num/expr.den)"
   ]
  },
  {
   "attachments": {},
   "cell_type": "markdown",
   "metadata": {},
   "source": [
    "<b><ins>5th Step:</b></ins> Calculate the integral using `integrate`:"
   ]
  },
  {
   "cell_type": "code",
   "execution_count": null,
   "metadata": {},
   "outputs": [],
   "source": [
    "res = restflow.integrate([expr],5,labels)\n",
    "display(res)"
   ]
  },
  {
   "attachments": {},
   "cell_type": "markdown",
   "metadata": {},
   "source": [
    "# Example 2: Graph with 2 external legs"
   ]
  },
  {
   "attachments": {},
   "cell_type": "markdown",
   "metadata": {},
   "source": [
    "We graphically corrected the propagator. To correct the 2-vertex, we need to consider all the graphs with 2 external legs. There are 2 1-loop graphs with 2 external legs for only 2-vertices:"
   ]
  },
  {
   "cell_type": "code",
   "execution_count": null,
   "metadata": {},
   "outputs": [],
   "source": [
    "pil_img = Image(filename='./figures/kpz_2vertex.jpg')\n",
    "display(pil_img)"
   ]
  },
  {
   "attachments": {},
   "cell_type": "markdown",
   "metadata": {},
   "source": [
    "We start with graph (A):"
   ]
  },
  {
   "cell_type": "code",
   "execution_count": null,
   "metadata": {},
   "outputs": [],
   "source": [
    "pil_img = Image(filename='./figures/kpz_2vertex_graphb.jpg')\n",
    "display(pil_img)"
   ]
  },
  {
   "attachments": {},
   "cell_type": "markdown",
   "metadata": {},
   "source": [
    "This graph actually represents 2 further graphs (figure (A1) and (A2)) depending on the labeling of the external legs. \n",
    "\n",
    "To set up the problem: Use the same system with before but we need to define the vector $p$ and the corresponding dot products:"
   ]
  },
  {
   "cell_type": "code",
   "execution_count": null,
   "metadata": {},
   "outputs": [],
   "source": [
    "_p, dot_pk, dot_qp = sympy.symbols('p (k·p) (q·p)')\n",
    "ctx.add_dot_product(_p,_k,dot_pk)\n",
    "ctx.add_dot_product(_q,_p,dot_qp)\n",
    "# create symbolic wave vectors\n",
    "p = ctx.vector(_p)"
   ]
  },
  {
   "attachments": {},
   "cell_type": "markdown",
   "metadata": {},
   "source": [
    "Create the graph:"
   ]
  },
  {
   "cell_type": "code",
   "execution_count": null,
   "metadata": {},
   "outputs": [],
   "source": [
    "v = [restflow.Vertex() for i in range(4)]\n",
    "v[0].link_vertex(v[1])\n",
    "v[0].link_vertex(v[2])\n",
    "v[2].link_vertex(v[3])\n",
    "v[3].link_vertex(v[1])\n",
    "v[2].add_outgoing()\n",
    "v[3].add_outgoing()\n",
    "g = restflow.Graph(v)\n",
    "labels = [k, p, q-p]\n",
    "g.label_edges(labels)\n"
   ]
  },
  {
   "attachments": {},
   "cell_type": "markdown",
   "metadata": {},
   "source": [
    "Use the method `convert_perm` to calculate all the permutations of the external momenta (figure (b) and (c)):"
   ]
  },
  {
   "cell_type": "code",
   "execution_count": null,
   "metadata": {},
   "outputs": [],
   "source": [
    "exprs = g.convert_perm(model,labels)\n",
    "for expr in exprs:\n",
    "    display(expr.num/expr.den)"
   ]
  },
  {
   "attachments": {},
   "cell_type": "markdown",
   "metadata": {},
   "source": [
    "Use the function `integrate` to calculate the integrals and sum the two graphs:"
   ]
  },
  {
   "cell_type": "code",
   "execution_count": null,
   "metadata": {},
   "outputs": [],
   "source": [
    "I_A = restflow.integrate(exprs,5,labels)\n",
    "display(I_A)"
   ]
  },
  {
   "attachments": {},
   "cell_type": "markdown",
   "metadata": {},
   "source": [
    "We follow the same procedure for graph B:"
   ]
  },
  {
   "cell_type": "code",
   "execution_count": null,
   "metadata": {},
   "outputs": [],
   "source": [
    "v = [restflow.Vertex() for i in range(4)]\n",
    "v[0].link_vertex(v[1])\n",
    "v[0].link_vertex(v[2])\n",
    "v[1].link_vertex(v[3])\n",
    "v[2].link_vertex(v[3])\n",
    "v[1].add_outgoing()\n",
    "v[2].add_outgoing()\n",
    "g = restflow.Graph(v)\n",
    "labels = [k, p, q-p]\n",
    "exprs = g.convert_perm(model,labels)\n",
    "I_B = restflow.integrate(exprs,5,labels)\n",
    "display(I_B)"
   ]
  },
  {
   "attachments": {},
   "cell_type": "markdown",
   "metadata": {},
   "source": [
    "We add the graphical contributions to the 2-vertex from these graphs:"
   ]
  },
  {
   "cell_type": "code",
   "execution_count": null,
   "metadata": {},
   "outputs": [],
   "source": [
    "I_2vertex = sympy.simplify(I_A+I_B)\n",
    "display(I_2vertex)"
   ]
  },
  {
   "attachments": {},
   "cell_type": "markdown",
   "metadata": {},
   "source": [
    "The graphical correction for 1-loop graphs for the $c_2$ parameter for the cKPZ model is zero! This turns out to be true only at one-loop <sup>2</sup>."
   ]
  },
  {
   "cell_type": "markdown",
   "metadata": {},
   "source": [
    "# Flow equations"
   ]
  },
  {
   "cell_type": "markdown",
   "metadata": {},
   "source": [
    "Once we have the corrections to the propagator and the 2-vertex, we can renormalize the model parameters by comparing the coefficients of the renormalized and unrenormalized vertex functions. Then, by proper scaling to restore the cut-off, the Wilson's flow equations can be found. "
   ]
  },
  {
   "cell_type": "code",
   "execution_count": null,
   "metadata": {},
   "outputs": [],
   "source": [
    "delta_l = sympy.symbols('δl')\n",
    "psi_kappa = sympy.simplify((sympy.simplify(-symtools.all_coeffs(res/q**2/delta_l,[q.sym])[q.sym**2])).as_expr()/model.kap)\n",
    "display(psi_kappa)"
   ]
  },
  {
   "cell_type": "markdown",
   "metadata": {},
   "source": [
    "Note that $\\psi_D=0$ since the only possible diagram is proportional to $k^4$ while the original spectrum of noise is proportional to $k^2$. Thus, this correction corresponds to higher derivatives and thus irrelevant. "
   ]
  },
  {
   "cell_type": "markdown",
   "metadata": {},
   "source": [
    "We now define the dimensionless parameter\n",
    "\\begin{equation}\n",
    "\\bar{c}_2 \\equiv \\frac{c_2 D^{1/2}}{\\kappa^{3/2}}K_d^{1/2}\\Lambda^{d/2-1}.\n",
    "\\end{equation}"
   ]
  },
  {
   "cell_type": "markdown",
   "metadata": {},
   "source": [
    "Express $\\psi_\\kappa$ wrt $\\bar{c}_2$:"
   ]
  },
  {
   "cell_type": "code",
   "execution_count": null,
   "metadata": {},
   "outputs": [],
   "source": [
    "d, Kd, Lambda, c2bar = sympy.symbols('d K_d Lambda c2_b')\n",
    "\n",
    "psi_kappa = sympy.simplify(psi_kappa.subs(model.c2, c2bar*model.kap**sympy.Rational(3,2)*model.D**sympy.Rational(-1,2)*Kd**sympy.Rational(-1,2)*Lambda**(-d/2+1)))\n",
    "display(psi_kappa)"
   ]
  },
  {
   "cell_type": "markdown",
   "metadata": {},
   "source": [
    "Thus the graphical corrections are $\\psi_D=\\psi_2=0$ and $\\psi_\\kappa = \\frac{2\\bar{c}_2^2}{d}$."
   ]
  },
  {
   "cell_type": "markdown",
   "metadata": {},
   "source": [
    "Using dimensional arguments we can now obtain the flow equation of $\\bar{c}_2$:\n",
    "\\begin{equation}\n",
    "\\partial_l \\bar{c}_2 = \\left(-\\frac{d-2}{2}-\\frac{3}{2}\\psi_\\kappa\\right)\\bar{c}_2 = \\left(-\\frac{d-2}{2}-\\frac{3\\bar{c}_2^2}{d}\\right)\\bar{c}_2\n",
    "\\end{equation}"
   ]
  },
  {
   "cell_type": "markdown",
   "metadata": {},
   "source": [
    "From this it is straightforward to obtain the non-trivial fixed points which appear only for $d<2$. Specifically, we get for $\\epsilon=2-d$"
   ]
  },
  {
   "cell_type": "code",
   "execution_count": null,
   "metadata": {},
   "outputs": [],
   "source": [
    "epsilon = sympy.symbols('epsilon')\n",
    "flow_c2 = (-(d-2)/2-3*c2bar**2/d)*c2bar\n",
    "sol = sympy.solve(sympy.series(flow_c2,epsilon,0,2),c2bar)\n",
    "sol = [sympy.series(element.subs(d,2-epsilon),epsilon,0,1).removeO() for element in sol]\n",
    "for element in sol:\n",
    "  display(element)"
   ]
  },
  {
   "attachments": {},
   "cell_type": "markdown",
   "metadata": {},
   "source": [
    "# References"
   ]
  },
  {
   "attachments": {},
   "cell_type": "markdown",
   "metadata": {},
   "source": [
    "<sup>1</sup> Sun, Tao, Hong Guo, and Martin Grant. \"Dynamics of driven interfaces with a conservation law.\" Physical Review A 40.11 (1989): 6763.\n",
    "\n",
    "<sup>2</sup> H. K. Janssen, “On Critical Exponents and the Renormalization of the Coupling Constant in Growth Models with Surface Diffusion,” Phys. Rev. Lett. 78, 1082–108 (1997).\n"
   ]
  }
 ],
 "metadata": {
  "kernelspec": {
   "display_name": "Python 3",
   "language": "python",
   "name": "python3"
  },
  "language_info": {
   "codemirror_mode": {
    "name": "ipython",
    "version": 3
   },
   "file_extension": ".py",
   "mimetype": "text/x-python",
   "name": "python",
   "nbconvert_exporter": "python",
   "pygments_lexer": "ipython3",
   "version": "3.10.11"
  },
  "orig_nbformat": 4,
  "vscode": {
   "interpreter": {
    "hash": "3147b5f9c6158a44fc6c92fdd5b7356dc6ea2dcc437edc0b017c6c528bc4e411"
   }
  }
 },
 "nbformat": 4,
 "nbformat_minor": 2
}

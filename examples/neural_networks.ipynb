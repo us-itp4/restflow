{
 "cells": [
  {
   "cell_type": "code",
   "execution_count": null,
   "metadata": {},
   "outputs": [],
   "source": [
    "import sys\n",
    "from IPython.display import Image, display\n",
    "import sympy\n",
    "\n",
    "sys.path.append('..')   # path for local package\n",
    "import restflow\n",
    "from restflow import symvec"
   ]
  },
  {
   "attachments": {},
   "cell_type": "markdown",
   "metadata": {},
   "source": [
    "# Example 2: Neural Networks"
   ]
  },
  {
   "attachments": {},
   "cell_type": "markdown",
   "metadata": {},
   "source": [
    "We use the neural field equation developped by [Tiberi, 2022] given by:\n",
    "\\begin{equation*}\n",
    "\\partial_t\\phi = \\nabla^2(\\kappa \\phi + c_2 \\phi^2 + c_3 \\phi^3) + \\eta\n",
    "\\end{equation*}\n",
    "with non-conserved noise ($\\alpha=0$).\n",
    "By switching to Fourier space, the only non-zero vertices are:\n",
    "\\begin{equation*}\n",
    "\\cal{v}_2(q) = - c_2 q^2,\n",
    "\\end{equation*}\n",
    "and \n",
    "\\begin{equation*}\n",
    "\\cal{v}_3(q) = - c_3 q^2\n",
    "\\end{equation*}"
   ]
  },
  {
   "attachments": {},
   "cell_type": "markdown",
   "metadata": {},
   "source": [
    "<b><ins>1st Step:</b></ins> Define the model parameters, the vectors, the propagators and the vertex functions:"
   ]
  },
  {
   "cell_type": "code",
   "execution_count": null,
   "metadata": {},
   "outputs": [],
   "source": [
    "# parameters of model\n",
    "kap, c2, c3, D = sympy.symbols('kappa c2 c3 D')\n",
    "d, Kd = sympy.symbols('d K_d')\n",
    "# symbols for vectors\n",
    "_q, _k, _p, dot_kq, dot_pk, dot_qp = sympy.symbols('q k p (k·q) (k·p) (q·p)')\n",
    "_r, dot_qr, dot_pr, dot_rk = sympy.symbols('r (q·r) (p·r) (r·k)')\n",
    "\n",
    "# assign symbol for dot product\n",
    "symvec.dots[frozenset((_q,_k))] = dot_kq\n",
    "symvec.dots[frozenset((_q,_p))] = dot_qp\n",
    "symvec.dots[frozenset((_p,_k))] = dot_pk\n",
    "symvec.dots[frozenset((_q,_r))] = dot_qr\n",
    "symvec.dots[frozenset((_p,_r))] = dot_pr\n",
    "symvec.dots[frozenset((_r,_k))] = dot_rk\n",
    "# create vectors\n",
    "k, q, p, r = symvec.Vector(_k), symvec.Vector(_q), symvec.Vector(_p), symvec.Vector(_r)\n",
    "\n",
    "def f(x):\n",
    "    return (kap*x**2)\n",
    "# Important: Vertices should be tuples (numerator, denuminator)\n",
    "def v2(k1,k2,k):\n",
    "    expr = -c2*k**2\n",
    "    return sympy.fraction(sympy.cancel(expr))\n",
    "\n",
    "def v3(k1,k2,k3,k):\n",
    "    return (-c3*k**2,1)"
   ]
  },
  {
   "attachments": {},
   "cell_type": "markdown",
   "metadata": {},
   "source": [
    "### The goal is to calculate the flow equations of the model parameters as shown in Eq. 53 and Eq. 54 of our manuscript."
   ]
  },
  {
   "attachments": {},
   "cell_type": "markdown",
   "metadata": {},
   "source": [
    "# Propagator Corrections"
   ]
  },
  {
   "attachments": {},
   "cell_type": "markdown",
   "metadata": {},
   "source": [
    "The only one-loop graphs are the following ones:"
   ]
  },
  {
   "cell_type": "code",
   "execution_count": null,
   "metadata": {},
   "outputs": [],
   "source": [
    "pil_img = Image(filename='./figures/modelB_plus_1vertex.jpg')\n",
    "display(pil_img)"
   ]
  },
  {
   "attachments": {},
   "cell_type": "markdown",
   "metadata": {},
   "source": [
    "<b><ins>2nd Step:</b></ins> Create the graph using the `graph.py` script. Express the integrands and calculate the integrals using `integrals.symmetrize` and `integrals.solve` respectively:"
   ]
  },
  {
   "cell_type": "code",
   "execution_count": null,
   "metadata": {},
   "outputs": [],
   "source": [
    "# graph (2c)\n",
    "v = [restflow.Vertex() for i in range(3)]\n",
    "v[0].link_vertex(v[1],0.0)\n",
    "v[0].link_vertex(v[2],0.0)\n",
    "v[2].link_vertex(v[1],0.12)\n",
    "v[2].add_outgoing(0.0)\n",
    "# express integrals of all graphs derived by symmetrized graph (output:array)\n",
    "I_array = restflow.integrals.symmetrize(v, q, [q], f, D, k, v2, v3)\n",
    "# solve each one of this integral and add them together\n",
    "I2c = restflow.integrals.solve(I_array, k, [q], d, n=4)\n",
    "# graph (3b)\n",
    "v = [restflow.Vertex() for i in range(2)]\n",
    "v[0].link_vertex(v[1],0.0)\n",
    "v[0].link_vertex(v[1],0.12)\n",
    "v[0].add_outgoing(0.0)\n",
    "I_array = restflow.integrals.symmetrize(v, q, [q], f, D, k, v2, v3)\n",
    "I3b = restflow.integrals.solve(I_array, k, [q], d, n=4)"
   ]
  },
  {
   "attachments": {},
   "cell_type": "markdown",
   "metadata": {},
   "source": [
    "Add the contribution of both diagrams:"
   ]
  },
  {
   "cell_type": "code",
   "execution_count": null,
   "metadata": {},
   "outputs": [],
   "source": [
    "Iprop = I2c+I3b\n",
    "display(Iprop)"
   ]
  },
  {
   "attachments": {},
   "cell_type": "markdown",
   "metadata": {},
   "source": [
    "# 2-Vertex Corrections"
   ]
  },
  {
   "attachments": {},
   "cell_type": "markdown",
   "metadata": {},
   "source": [
    "The only 1-loop diagrams contributing to 2-vertex are:"
   ]
  },
  {
   "cell_type": "code",
   "execution_count": null,
   "metadata": {},
   "outputs": [],
   "source": [
    "pil_img = Image(filename='./figures/modelB_plus_2vertex.jpg')\n",
    "display(pil_img)"
   ]
  },
  {
   "attachments": {},
   "cell_type": "markdown",
   "metadata": {},
   "source": [
    "We follow the same method for the 1-vertex corrections. There are two remarks:\n",
    "-   The function `integrals.symmetrize` is necessary for the 2-vertices and 3-vertices because e.g. figures (b) and (d) represent multiple graphs (by permuting the labels of the external legs). \n",
    "-   We substitute all external wave vectors to zero before we solve the integral using `integrals.solve`."
   ]
  },
  {
   "cell_type": "code",
   "execution_count": null,
   "metadata": {},
   "outputs": [],
   "source": [
    "# graph (a)\n",
    "v = [restflow.Vertex() for i in range(4)]\n",
    "v[0].link_vertex(v[1], 0.0)\n",
    "v[0].link_vertex(v[2], 0.12)\n",
    "v[1].link_vertex(v[3], 0.0)\n",
    "v[2].link_vertex(v[3], 0.0)\n",
    "v[1].add_outgoing(-0.12)\n",
    "v[2].add_outgoing(0.12)\n",
    "I_array = restflow.integrals.symmetrize(v, q, [p,q-p], f, D, k,  v2, v3)\n",
    "# substitute wavectors to zero\n",
    "I_array = [(element[0].subs([(dot_qp,0), (dot_pk,0),(dot_qr,0), (dot_pr,0),(dot_rk,0),(p**2,0),(r**2,0)]), (element[1].subs([(dot_qp,0), (dot_pk,0),(dot_qr,0), (dot_pr,0),(dot_rk,0),(p**2,0),(r**2,0)]))) for element in I_array]\n",
    "Ia = restflow.integrals.solve(I_array, k, [q, p], d, n=3)\n",
    "# graph (b)\n",
    "v = [restflow.Vertex() for i in range(4)]\n",
    "v[0].link_vertex(v[1], 0.12)\n",
    "v[0].link_vertex(v[2], 0.0)\n",
    "v[2].link_vertex(v[3], 0.0)\n",
    "v[3].link_vertex(v[1], 0.0)\n",
    "v[2].add_outgoing(-0.12)\n",
    "v[3].add_outgoing(-0.12)\n",
    "I_array = restflow.integrals.symmetrize(v, q, [p,q-p], f, D, k,  v2, v3)\n",
    "I_array = [(element[0].subs([(dot_qp,0), (dot_pk,0),(dot_qr,0), (dot_pr,0),(dot_rk,0),(p**2,0),(r**2,0)]), (element[1].subs([(dot_qp,0), (dot_pk,0),(dot_qr,0), (dot_pr,0),(dot_rk,0),(p**2,0),(r**2,0)]))) for element in I_array]\n",
    "Ib = restflow.integrals.solve(I_array, k, [q, p], d, n=3)\n",
    "# graph (c)\n",
    "v = [restflow.Vertex() for i in range(3)]\n",
    "v[0].link_vertex(v[1], 0.12)\n",
    "v[0].link_vertex(v[2], 0.0)\n",
    "v[2].link_vertex(v[1], 0.0)\n",
    "v[2].add_outgoing(0.0)\n",
    "v[2].add_outgoing(-0.12)\n",
    "I_array = restflow.integrals.symmetrize(v, q, [p,q-p], f, D, k,  v2, v3)\n",
    "I_array = [(element[0].subs([(dot_qp,0), (dot_pk,0),(dot_qr,0), (dot_pr,0),(dot_rk,0),(p**2,0),(r**2,0)]), (element[1].subs([(dot_qp,0), (dot_pk,0),(dot_qr,0), (dot_pr,0),(dot_rk,0),(p**2,0),(r**2,0)]))) for element in I_array]\n",
    "Ic = restflow.integrals.solve(I_array, k, [q, p], d, n=3)\n",
    "# graph (d)\n",
    "v = [restflow.Vertex() for i in range(3)]\n",
    "v[0].link_vertex(v[1], 0.12)\n",
    "v[0].link_vertex(v[2], 0.0)\n",
    "v[2].link_vertex(v[1], 0.0)\n",
    "v[0].add_outgoing(-0.12)\n",
    "v[2].add_outgoing(0.0)\n",
    "I_array = restflow.integrals.symmetrize(v, q, [p,q-p], f, D, k,  v2, v3)\n",
    "I_array = [(element[0].subs([(dot_qp,0), (dot_pk,0),(dot_qr,0), (dot_pr,0),(dot_rk,0),(p**2,0),(r**2,0)]), (element[1].subs([(dot_qp,0), (dot_pk,0),(dot_qr,0), (dot_pr,0),(dot_rk,0),(p**2,0),(r**2,0)]))) for element in I_array]\n",
    "Id = restflow.integrals.solve(I_array, k, [q, p], d, n=3)"
   ]
  },
  {
   "attachments": {},
   "cell_type": "markdown",
   "metadata": {},
   "source": [
    "We sum the contribution of the integrals for the 2-vertex corrections:"
   ]
  },
  {
   "cell_type": "code",
   "execution_count": null,
   "metadata": {},
   "outputs": [],
   "source": [
    "I2vert = Ia+Ib+Ic+Id\n",
    "display(I2vert)"
   ]
  },
  {
   "attachments": {},
   "cell_type": "markdown",
   "metadata": {},
   "source": [
    "# 3-Vertex Corrections"
   ]
  },
  {
   "attachments": {},
   "cell_type": "markdown",
   "metadata": {},
   "source": [
    "The graphs which contribute to 3-vertex corrections are the following ones:"
   ]
  },
  {
   "cell_type": "code",
   "execution_count": null,
   "metadata": {},
   "outputs": [],
   "source": [
    "pil_img = Image(filename='./figures/modelB_plus_3vertex.jpg')\n",
    "display(pil_img)"
   ]
  },
  {
   "attachments": {},
   "cell_type": "markdown",
   "metadata": {},
   "source": [
    "We follow the same procedure as described above: "
   ]
  },
  {
   "cell_type": "code",
   "execution_count": null,
   "metadata": {},
   "outputs": [],
   "source": [
    "# figure (3c)\n",
    "v = [restflow.Vertex() for i in range(3)]\n",
    "v[0].link_vertex(v[1], 0.12)\n",
    "v[0].link_vertex(v[2], 0.0)\n",
    "v[2].link_vertex(v[1], 0.0)\n",
    "v[0].add_outgoing(-0.12)\n",
    "v[2].add_outgoing(0.12)\n",
    "v[2].add_outgoing(-0.12)\n",
    "I_array = restflow.integrals.symmetrize(v, q, [p,r,q-p-r], f, D, k,  v2, v3)\n",
    "I_array = [(element[0].subs([(dot_qp,0), (dot_pk,0),(dot_qr,0), (dot_pr,0),(dot_rk,0),(p**2,0),(r**2,0)]), (element[1].subs([(dot_qp,0), (dot_pk,0),(dot_qr,0), (dot_pr,0),(dot_rk,0),(p**2,0),(r**2,0)]))) for element in I_array]\n",
    "I3c = restflow.integrals.solve(I_array, k, [q, p], d, n=3)\n",
    "# figure (e)\n",
    "v = [restflow.Vertex() for i in range(4)]\n",
    "v[0].link_vertex(v[1], 0.0)\n",
    "v[1].link_vertex(v[2], 0.0)\n",
    "v[0].link_vertex(v[3], 0.12)\n",
    "v[3].link_vertex(v[2], 0.0)\n",
    "v[0].add_outgoing(-0.12)\n",
    "v[1].add_outgoing(-0.12)\n",
    "v[3].add_outgoing(0.12)\n",
    "I_array = restflow.integrals.symmetrize(v, q, [p,r,q-p-r], f, D, k,  v2, v3)\n",
    "I_array = [(element[0].subs([(dot_qp,0), (dot_pk,0),(dot_qr,0), (dot_pr,0),(dot_rk,0),(p**2,0),(r**2,0)]), (element[1].subs([(dot_qp,0), (dot_pk,0),(dot_qr,0), (dot_pr,0),(dot_rk,0),(p**2,0),(r**2,0)]))) for element in I_array]\n",
    "Ie = restflow.integrals.solve(I_array, k, [q, p], d, n=3)\n",
    "# figure (f)\n",
    "v = [restflow.Vertex() for i in range(4)]\n",
    "v[0].link_vertex(v[1], 0.0)\n",
    "v[0].link_vertex(v[2], 0.12)\n",
    "v[2].link_vertex(v[3], 0.12)\n",
    "v[3].link_vertex(v[1], 0.0)\n",
    "v[0].add_outgoing(-0.12)\n",
    "v[2].add_outgoing(0.0)\n",
    "v[3].add_outgoing(-0.12)\n",
    "I_array = restflow.integrals.symmetrize(v, q, [p,r,q-p-r], f, D, k,  v2, v3)\n",
    "I_array = [(element[0].subs([(dot_qp,0), (dot_pk,0),(dot_qr,0), (dot_pr,0),(dot_rk,0),(p**2,0),(r**2,0)]), (element[1].subs([(dot_qp,0), (dot_pk,0),(dot_qr,0), (dot_pr,0),(dot_rk,0),(p**2,0),(r**2,0)]))) for element in I_array]\n",
    "If = restflow.integrals.solve(I_array, k, [q, p], d, n=3)\n",
    "# figure (g)\n",
    "v = [restflow.Vertex() for i in range(4)]\n",
    "v[0].link_vertex(v[1], 0.0)\n",
    "v[1].link_vertex(v[2], 0.12)\n",
    "v[0].link_vertex(v[3], 0.12)\n",
    "v[3].link_vertex(v[2], 0.0)\n",
    "v[1].add_outgoing(-0.12)\n",
    "v[1].add_outgoing(-0.25)\n",
    "v[3].add_outgoing(0.12)\n",
    "I_array = restflow.integrals.symmetrize(v, q, [p,r,q-p-r], f, D, k,  v2, v3)\n",
    "I_array = [(element[0].subs([(dot_qp,0), (dot_pk,0),(dot_qr,0), (dot_pr,0),(dot_rk,0),(p**2,0),(r**2,0)]), (element[1].subs([(dot_qp,0), (dot_pk,0),(dot_qr,0), (dot_pr,0),(dot_rk,0),(p**2,0),(r**2,0)]))) for element in I_array]\n",
    "Ig = restflow.integrals.solve(I_array, k, [q, p], d, n=3)\n",
    "# figure (h)\n",
    "v = [restflow.Vertex() for i in range(4)]\n",
    "v[0].link_vertex(v[1], 0.12)\n",
    "v[0].link_vertex(v[2], 0.0)\n",
    "v[2].link_vertex(v[3], 0.0)\n",
    "v[3].link_vertex(v[1], 0.12)\n",
    "v[3].add_outgoing(0.0)\n",
    "v[3].add_outgoing(-0.12)\n",
    "v[2].add_outgoing(-0.12)\n",
    "I_array = restflow.integrals.symmetrize(v, q, [p,r,q-p-r], f, D, k,  v2, v3)\n",
    "I_array = [(element[0].subs([(dot_qp,0), (dot_pk,0),(dot_qr,0), (dot_pr,0),(dot_rk,0),(p**2,0),(r**2,0)]), (element[1].subs([(dot_qp,0), (dot_pk,0),(dot_qr,0), (dot_pr,0),(dot_rk,0),(p**2,0),(r**2,0)]))) for element in I_array]\n",
    "Ih = restflow.integrals.solve(I_array, k, [q, p], d, n=3)\n",
    "# figure (i)\n",
    "v = [restflow.Vertex() for i in range(4)]\n",
    "v[0].link_vertex(v[1], 0.12)\n",
    "v[0].link_vertex(v[2], 0.0)\n",
    "v[2].link_vertex(v[3], 0.0)\n",
    "v[3].link_vertex(v[1], 0.12)\n",
    "v[2].add_outgoing(-0.12)\n",
    "v[2].add_outgoing(0.12)\n",
    "v[3].add_outgoing(-0.12)\n",
    "I_array = restflow.integrals.symmetrize(v, q, [p,r,q-p-r], f, D, k,  v2, v3)\n",
    "I_array = [(element[0].subs([(dot_qp,0), (dot_pk,0),(dot_qr,0), (dot_pr,0),(dot_rk,0),(p**2,0),(r**2,0)]), (element[1].subs([(dot_qp,0), (dot_pk,0),(dot_qr,0), (dot_pr,0),(dot_rk,0),(p**2,0),(r**2,0)]))) for element in I_array]\n",
    "Ii = restflow.integrals.solve(I_array, k, [q, p], d, n=3)\n",
    "# figure (j)\n",
    "v = [restflow.Vertex() for i in range(5)]\n",
    "v[0].link_vertex(v[1], 0.0)\n",
    "v[1].link_vertex(v[2], 0.0)\n",
    "v[2].link_vertex(v[3], 0.0)\n",
    "v[0].link_vertex(v[4], 0.12)\n",
    "v[4].link_vertex(v[3], 0.0)\n",
    "v[1].add_outgoing(-0.12)\n",
    "v[2].add_outgoing(-0.12)\n",
    "v[4].add_outgoing(0.12)\n",
    "I_array = restflow.integrals.symmetrize(v, q, [p,r,q-p-r], f, D, k,  v2, v3)\n",
    "I_array = [(element[0].subs([(dot_qp,0), (dot_pk,0),(dot_qr,0), (dot_pr,0),(dot_rk,0),(p**2,0),(r**2,0)]), (element[1].subs([(dot_qp,0), (dot_pk,0),(dot_qr,0), (dot_pr,0),(dot_rk,0),(p**2,0),(r**2,0)]))) for element in I_array]\n",
    "Ij = restflow.integrals.solve(I_array, k, [q, p], d, n=3)\n",
    "# figure (k)\n",
    "v = [restflow.Vertex() for i in range(5)]\n",
    "v[0].link_vertex(v[1], 0.12)\n",
    "v[0].link_vertex(v[2], 0.0)\n",
    "v[2].link_vertex(v[3], 0.0)\n",
    "v[3].link_vertex(v[4], 0.0)\n",
    "v[4].link_vertex(v[1], 0.0)\n",
    "v[2].add_outgoing(-0.12)\n",
    "v[3].add_outgoing(-0.12)\n",
    "v[4].add_outgoing(-0.12)\n",
    "I_array = restflow.integrals.symmetrize(v, q, [p,r,q-r-p], f, D, k,  v2, v3)\n",
    "I_array = [(element[0].subs([(dot_qp,0), (dot_pk,0),(dot_qr,0), (dot_pr,0),(dot_rk,0),(p**2,0),(r**2,0)]), (element[1].subs([(dot_qp,0), (dot_pk,0),(dot_qr,0), (dot_pr,0),(dot_rk,0),(p**2,0),(r**2,0)]))) for element in I_array]\n",
    "Ik = restflow.integrals.solve(I_array, k, [q, p], d, n=3)"
   ]
  },
  {
   "attachments": {},
   "cell_type": "markdown",
   "metadata": {},
   "source": [
    "We sum all of the contributions to 3-vertex corrections:"
   ]
  },
  {
   "cell_type": "code",
   "execution_count": null,
   "metadata": {},
   "outputs": [],
   "source": [
    "I3vert = sympy.Poly(Ie+If+Ig+Ih+Ii+Ij+Ik+I3c,q.sym).as_expr()\n",
    "display(I3vert)"
   ]
  },
  {
   "attachments": {},
   "cell_type": "markdown",
   "metadata": {},
   "source": [
    "# Extracting the Corrections of the Model Parameters"
   ]
  },
  {
   "attachments": {},
   "cell_type": "markdown",
   "metadata": {},
   "source": [
    "We just calculated the corrections to the <b>propagator, 2-vertex and 3-vertex</b>.\n",
    "<br> Now, we can extract the corrections to the <b>model parameters</b>. For this, we need to:\n",
    "-   Define new renormalized vertices (with new model parameters)\n",
    "-   Solve linear equations derived by comparing the coefficients of the monomials of the original vertices with those of the renormalized vertices (see Appendix C of our manuscript)"
   ]
  },
  {
   "cell_type": "code",
   "execution_count": null,
   "metadata": {},
   "outputs": [],
   "source": [
    "kapt, c1t, c2t, c3t, Dt = sympy.symbols('kappat c1t c2t c3t Dt')\n",
    "\n",
    "def v2t(k1,k2,k):\n",
    "    expr = -c2t*k**2\n",
    "    return sympy.fraction(sympy.cancel(expr))\n",
    "\n",
    "def v3t(k1,k2,k3,k):\n",
    "    return (-c3t*k**2,1)\n",
    "\n",
    "def compare_coeffs(dict1,dict_original,k,q,p):\n",
    "    \"\"\"\n",
    "    Returns equations between the renormalized model parameters and the original model parameters\n",
    "    \"\"\"\n",
    "    eqts = [0]*len(dict1)\n",
    "    i=0\n",
    "    for key in dict1:\n",
    "        eqts[i]= dict1.get(key) - dict_original.get(key)\n",
    "        i+=1\n",
    "    eqts = [i for i in eqts if i != 0]\n",
    "    return eqts\n",
    "\n",
    "def expand_vertex(expr, q):\n",
    "    \"\"\"\n",
    "    Expands the coefficients of the renormalized 2-vertex\n",
    "    Returns dictionary of the coefficients of the monomials\n",
    "    \"\"\"\n",
    "    return symvec.all_coeffs(expr,[q.sym])\n",
    "\n",
    "def renormalize_vertex(expr,vertex,k,q,p,d):\n",
    "    \"\"\"\n",
    "    Matches the coefficients of the 2-vertex with the renormalized 2-vertex.\n",
    "    \"\"\"\n",
    "    coeffs = expand_vertex(expr,q)\n",
    "    coeffs_original = expand_vertex(vertex[0]/vertex[1],q)\n",
    "    eqts = compare_coeffs(coeffs,coeffs_original,k,q,p)\n",
    "    if vertex == v2t(q,q,q):\n",
    "        return list(sympy.linsolve(eqts, [c2t]))[0]\n",
    "    elif vertex == v3t(q,q,q,q):\n",
    "        return list(sympy.linsolve(eqts, [c3t]))[0]"
   ]
  },
  {
   "attachments": {},
   "cell_type": "markdown",
   "metadata": {},
   "source": [
    "For the $\\phi_\\kappa$ we use the following relationship:\n",
    "\\begin{equation*}\n",
    "\\frac{1}{\\widetilde{f}(q)}=\\frac{1}{f(q)}+I, \n",
    "\\end{equation*}\n",
    "and by taylor expanding, we get:\n",
    "\\begin{equation*}\n",
    "\\widetilde{f}(k)\\approx f(k)-I, \n",
    "\\end{equation*}"
   ]
  },
  {
   "attachments": {},
   "cell_type": "markdown",
   "metadata": {},
   "source": [
    "Using the corrections to the propagators, we get that $\\psi_\\kappa$ is:"
   ]
  },
  {
   "cell_type": "code",
   "execution_count": null,
   "metadata": {},
   "outputs": [],
   "source": [
    "from IPython.display import Latex\n",
    "display(Latex('$\\psi_\\kappa=$'),sympy.simplify(-Iprop/(kap*q**2)))"
   ]
  },
  {
   "attachments": {},
   "cell_type": "markdown",
   "metadata": {},
   "source": [
    "Similarly, we get for the 2-vertex and 3-vertex:"
   ]
  },
  {
   "cell_type": "code",
   "execution_count": null,
   "metadata": {},
   "outputs": [],
   "source": [
    "from IPython.display import Latex\n",
    "# renormalize c2 parameter\n",
    "sol_c2t = renormalize_vertex(I2vert,v2t(q,q,q),k,q,p,d)[0]\n",
    "psi_2=sympy.simplify(sol_c2t/c2)\n",
    "display(Latex('$\\psi_2=$'),psi_2)\n",
    "# renormalize c3 parameter\n",
    "sol_c3t = renormalize_vertex(I3vert,v3t(q,q,q,q),k,q,p,d)[0]\n",
    "psi_3=sympy.simplify(sol_c3t/c3)\n",
    "display(Latex('$\\psi_3=$'),psi_3)\n"
   ]
  }
 ],
 "metadata": {
  "kernelspec": {
   "display_name": "Python 3",
   "language": "python",
   "name": "python3"
  },
  "language_info": {
   "codemirror_mode": {
    "name": "ipython",
    "version": 3
   },
   "file_extension": ".py",
   "mimetype": "text/x-python",
   "name": "python",
   "nbconvert_exporter": "python",
   "pygments_lexer": "ipython3",
   "version": "3.10.9"
  },
  "orig_nbformat": 4,
  "vscode": {
   "interpreter": {
    "hash": "3147b5f9c6158a44fc6c92fdd5b7356dc6ea2dcc437edc0b017c6c528bc4e411"
   }
  }
 },
 "nbformat": 4,
 "nbformat_minor": 2
}

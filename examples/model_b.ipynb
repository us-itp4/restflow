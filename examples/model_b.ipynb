{
 "cells": [
  {
   "cell_type": "code",
   "execution_count": null,
   "metadata": {},
   "outputs": [],
   "source": [
    "import sys\n",
    "from IPython.display import Image, display\n",
    "import sympy\n",
    "sys.path.append('..')   # path for local package\n",
    "import restflow\n",
    "from restflow import symvec, symtools"
   ]
  },
  {
   "attachments": {},
   "cell_type": "markdown",
   "metadata": {},
   "source": [
    "# Model B equation"
   ]
  },
  {
   "attachments": {},
   "cell_type": "markdown",
   "metadata": {},
   "source": [
    "The Model B equation is given by:\n",
    "\\begin{equation*}\n",
    "\\partial_t\\phi = \\nabla^2(a\\phi+u\\phi^3-\\kappa\\nabla^2\\phi)  + \\eta,\n",
    "\\end{equation*}\n",
    "with conserved noise. The quantity $\\phi$ is usually related to the density. For more on the physics of Model B, see Section I.1 from the accompanied manuscript.\n",
    "\n",
    "We will only consider 1-loop graphs. For more loops, their contributions are of higher order in the perturbation series. "
   ]
  },
  {
   "attachments": {},
   "cell_type": "markdown",
   "metadata": {},
   "source": [
    "<b><ins>1st Step:</b></ins> Define the model parameters, the vectors, the propagators and the vertex functions:"
   ]
  },
  {
   "cell_type": "code",
   "execution_count": null,
   "metadata": {},
   "outputs": [],
   "source": [
    "# define the model\n",
    "class modelb:\n",
    "    def __init__(self):\n",
    "        self.alpha = 2\n",
    "        self.kap, self.D, self.u, self.a, self.bbar = sympy.symbols('kappa D u a b_b')\n",
    "\n",
    "    def f(self,k):\n",
    "        return (self.kap*k**2+self.a)*k**2\n",
    "\n",
    "    def v3(self,k1,k2,k3,q):\n",
    "        return (-self.u*q**2,1)\n",
    "\n",
    "# symbols for vectors\n",
    "_q, _k, dot_kq = sympy.symbols('q k (k·q)')\n",
    "# saves the vectors and dot products in a class\n",
    "ctx = symvec.Context()\n",
    "ctx.add_dot_product(_q,_k,dot_kq)\n",
    "ctx = restflow.Context()\n",
    "ctx.add_dot_product(_q,_k,dot_kq)\n",
    "# create symbolic wave vectors\n",
    "k = ctx.vector(_k)\n",
    "q = ctx.vector(_q)\n",
    "\n",
    "model = modelb()"
   ]
  },
  {
   "cell_type": "markdown",
   "metadata": {},
   "source": [
    "# Calculation of graphs"
   ]
  },
  {
   "cell_type": "markdown",
   "metadata": {},
   "source": [
    "### Graphical correction for propagator"
   ]
  },
  {
   "cell_type": "markdown",
   "metadata": {},
   "source": [
    "The only one-loop graph that contributes to the propagator is"
   ]
  },
  {
   "cell_type": "code",
   "execution_count": null,
   "metadata": {},
   "outputs": [],
   "source": [
    "pil_img = Image(filename='./figures/modelB_1vertex.jpg')\n",
    "display(pil_img)"
   ]
  },
  {
   "cell_type": "code",
   "execution_count": null,
   "metadata": {},
   "outputs": [],
   "source": [
    "labels = [k, q]\n",
    "v = [restflow.Vertex() for i in range(2)]\n",
    "v[0].link_vertex(v[1])\n",
    "v[0].link_vertex(v[1])\n",
    "v[0].add_outgoing(0.0)\n",
    "g = restflow.Graph(v)\n",
    "g.label_edges(labels)\n",
    "expr = g.convert(model)\n",
    "I1 = restflow.integrate([expr],5,labels)\n",
    "display(I1)"
   ]
  },
  {
   "cell_type": "markdown",
   "metadata": {},
   "source": [
    "### Graphical correction for 3-vertex"
   ]
  },
  {
   "cell_type": "markdown",
   "metadata": {},
   "source": [
    "The only one-loop graph that contributes to the 3-vertex is"
   ]
  },
  {
   "cell_type": "code",
   "execution_count": null,
   "metadata": {},
   "outputs": [],
   "source": [
    "pil_img = Image(filename='./figures/modelB_3vertex.jpg')\n",
    "display(pil_img)"
   ]
  },
  {
   "cell_type": "code",
   "execution_count": null,
   "metadata": {},
   "outputs": [],
   "source": [
    "# define the external legs p and r. They will be set to 0 since the 3-vertex is independent of them.\n",
    "_p, dot_pk, dot_qp, _r, dot_qr, dot_pr, dot_rk  = sympy.symbols('p (k·p) (q·p) r (q·r) (p·r) (r·k)')\n",
    "p = ctx.vector(_p)\n",
    "r = ctx.vector(_r)\n",
    "ctx.add_dot_product(_q,_k,dot_kq)\n",
    "ctx.add_dot_product(_q,_p,dot_qp)\n",
    "ctx.add_dot_product(_p,_k,dot_pk)\n",
    "ctx.add_dot_product(_q,_r,dot_qr)\n",
    "ctx.add_dot_product(_p,_r,dot_pr)\n",
    "ctx.add_dot_product(_r,_k,dot_rk)\n",
    "labels = [k, p, r, q-p-r]\n",
    "# figure (3c)\n",
    "v = [restflow.Vertex() for i in range(3)]\n",
    "v[0].link_vertex(v[1])\n",
    "v[0].link_vertex(v[2])\n",
    "v[2].link_vertex(v[1])\n",
    "v[0].add_outgoing()\n",
    "v[2].add_outgoing()\n",
    "v[2].add_outgoing()\n",
    "g = restflow.Graph(v)\n",
    "exprs = g.convert_perm(model,labels)\n",
    "exprs = symtools.nullify_outlegs(exprs, k, q, p, r)\n",
    "I3 = restflow.integrate(exprs,3,labels)\n",
    "display(I3)\n"
   ]
  },
  {
   "cell_type": "markdown",
   "metadata": {},
   "source": [
    "# Graphical corrections and dimensionless parameters"
   ]
  },
  {
   "cell_type": "markdown",
   "metadata": {},
   "source": [
    "Once we have the corrections to the propagator and the 3-vertex, we can renormalize the model parameters by comparing the coefficients of the renormalized and unrenormalized vertex functions. Then, by proper scaling to restore the cut-off, the Wilson's flow equations can be found (see section II.G.). "
   ]
  },
  {
   "cell_type": "markdown",
   "metadata": {},
   "source": [
    "From the $I_1$ we see that there is no term of order $q^4$ and therefore $\\psi_\\kappa=0$. The first correction to $D$ is a two-loop integral and thus of order $(\\delta l)^2$ with $\\psi_D=0$. \n",
    "\n",
    "We now calculate the graphical corrections for $\\psi_a$ and $\\psi_u$:"
   ]
  },
  {
   "cell_type": "code",
   "execution_count": null,
   "metadata": {},
   "outputs": [],
   "source": [
    "delta_l = sympy.symbols('δl')\n",
    "psi_a = sympy.simplify(-sympy.simplify(I1/q**2/delta_l)/model.a)\n",
    "psi_u = sympy.simplify(sympy.Poly(sympy.simplify(-I3/q.sym**2/delta_l)).as_expr()/model.u)\n",
    "display(psi_a)\n",
    "display(psi_u)"
   ]
  },
  {
   "cell_type": "markdown",
   "metadata": {},
   "source": [
    "We define the following dimensionless parameters:\n",
    "\\begin{gather}\n",
    "\\bar{a} \\equiv \\frac{a}{\\kappa \\Lambda^2}, \\bar{u}\\equiv\\frac{uD}{\\kappa^2}K_d \\Lambda^{d-4}\n",
    "\\end{gather}"
   ]
  },
  {
   "cell_type": "markdown",
   "metadata": {},
   "source": [
    "We now express $\\psi_a$ and $\\psi_u$ wrt $\\bar u$ and $\\bar a$:"
   ]
  },
  {
   "cell_type": "code",
   "execution_count": null,
   "metadata": {},
   "outputs": [],
   "source": [
    "d, Kd, Lambda, abar, ubar = sympy.symbols('d K_d Lambda a_b u_b')\n",
    "\n",
    "psi_a = sympy.simplify(psi_a.subs([(model.a, abar*model.kap*Lambda**2), (model.u, ubar*model.kap**2/model.D*Lambda**(-d+4)/Kd)]))\n",
    "psi_u = sympy.simplify(psi_u.subs([(model.a, abar*model.kap*Lambda**2), (model.u, ubar*model.kap**2/model.D*Lambda**(-d+4)/Kd)]))\n",
    "\n",
    "display(psi_a)\n",
    "display(psi_u)"
   ]
  },
  {
   "cell_type": "markdown",
   "metadata": {},
   "source": [
    "Thus the graphical corrections are $\\psi_D=0$ and $\\psi_a = \\frac{3\\bar{u}}{\\bar{a}(\\bar{a}+1)}$ and $\\psi_u = -\\frac{9\\bar{u}}{(\\bar{a}+1)^2}$."
   ]
  },
  {
   "cell_type": "markdown",
   "metadata": {},
   "source": [
    "Using dimensional arguments we can now obtain the flow equation of $\\bar a$ and $\\bar u$:"
   ]
  },
  {
   "cell_type": "code",
   "execution_count": null,
   "metadata": {},
   "outputs": [],
   "source": [
    "flow_a, flow_u = 2*abar+psi_a*abar, (4-d)*ubar+psi_u*ubar\n",
    "display(flow_a)\n",
    "display(flow_u)"
   ]
  },
  {
   "cell_type": "markdown",
   "metadata": {},
   "source": [
    "From this it is straightforward to obtain the non-trivial fixed points with respect to $\\epsilon=4-d$."
   ]
  },
  {
   "cell_type": "code",
   "execution_count": null,
   "metadata": {},
   "outputs": [],
   "source": [
    "from IPython.display import display, Math\n",
    "\n",
    "epsilon = sympy.symbols('\\epsilon')\n",
    "flow_a = 2*abar+psi_a*abar\n",
    "flow_u = (4-d)*ubar+psi_u*ubar\n",
    "sol = sympy.solve([flow_a, flow_u], [abar, ubar])\n",
    "sol = [[sympy.series(element[0].subs(d,4-epsilon),epsilon,0,2).removeO(), sympy.series(element[1].subs(d,4-epsilon),epsilon,0,2).removeO(), ] for element in sol]\n",
    "display(Math(r'Gaussian: \\bar a={}, \\bar u = {} \\\\ Wilson-Fisher: \\bar a={}, \\bar u={}'.format(sol[0][0], sol[0][1],sol[1][0],sol[1][1])))\n"
   ]
  },
  {
   "cell_type": "markdown",
   "metadata": {},
   "source": [
    "We can also calculate eigenvectors and eigenvalues of the linearized system around the Gaussian and the Wilson-Fisher  fixed points:"
   ]
  },
  {
   "cell_type": "code",
   "execution_count": null,
   "metadata": {},
   "outputs": [],
   "source": [
    "def calculate_theor_stability(pt):\n",
    "  '''\n",
    "  Calculates symbolically the eigenvectors and eigenvalues given flow equations and a point.\n",
    "  '''\n",
    "  flows = [sympy.series(element.subs(d,4-epsilon), epsilon,0,2).removeO() for element in [flow_a, flow_u]]\n",
    "  J= (sympy.Matrix(flows).jacobian([abar,ubar])).subs([(abar,pt[0]), (ubar,pt[1])])\n",
    "  for i in range(2):\n",
    "    for j in range(2):\n",
    "      J[i,j] = sympy.series(J[i,j],epsilon,x0=0,n=2).removeO()\n",
    "  eigenvec = J.eigenvects()\n",
    "  eigenpair = [[eigenvec[i][0], eigenvec[i][2][:]] for i in range(len(eigenvec))]\n",
    "  for i in range(len(eigenvec)):\n",
    "    for j in range(len(eigenpair[i][1])):\n",
    "      eigenpair[i][0] = sympy.series(eigenpair[i][0],epsilon,x0=0,n=2).removeO()\n",
    "      eigenpair[i][1][j] = sympy.Matrix([sympy.N(sympy.series(element,epsilon,x0=0,n=2).removeO()) for element in eigenpair[i][1][j]])\n",
    "  return [eigenpair[i][0] for i in range(len(eigenpair))], [eigenpair[i][1][0] for i in range(len(eigenpair))]\n",
    "\n",
    "elam_g, evec_g = calculate_theor_stability([sol[0][0], sol[0][1]])\n",
    "elam_wf, evec_wf = calculate_theor_stability([sol[1][0], sol[1][1]])\n",
    "for i in range(2):\n",
    "  display(Math(r'Gaussian: eigenvalue \\quad \\lambda_{}^G={}, \\quad eigenvector \\quad v^G_{}= '.format(i,elam_g[i],i)))\n",
    "  display(evec_g[i])\n",
    "for i in range(2):\n",
    "  display(Math(r'Wilson-Fisher: eigenvalue \\quad \\lambda_{}^W={}, \\quad eigenvector \\quad v^W_{}= '.format(i,elam_wf[i],i)))\n",
    "  display(evec_wf[i])"
   ]
  },
  {
   "cell_type": "markdown",
   "metadata": {},
   "source": [
    "Therefore, for $d<4$, the flow is repulsive close to the Gaussian while for the Wilson-Fisher the flow is attractive along the direction of $u_0^W$ and repulsive along the $\\bar a$-axis. While this is valid only close to $d=4$, there is ample of evidence that the Wilson-Fisher controls the behavior down to $d=2$ <sup>1</sup>."
   ]
  },
  {
   "cell_type": "markdown",
   "metadata": {},
   "source": [
    "# References"
   ]
  },
  {
   "cell_type": "markdown",
   "metadata": {},
   "source": [
    "<sup>1</sup> J. Le Guillou and J. Zinn-Justin, “Accurate critical ex-\n",
    "ponents from the ε-expansion,” J. Physique Lett. 46,\n",
    "137–141 (1985)."
   ]
  }
 ],
 "metadata": {
  "kernelspec": {
   "display_name": "Python 3",
   "language": "python",
   "name": "python3"
  },
  "language_info": {
   "codemirror_mode": {
    "name": "ipython",
    "version": 3
   },
   "file_extension": ".py",
   "mimetype": "text/x-python",
   "name": "python",
   "nbconvert_exporter": "python",
   "pygments_lexer": "ipython3",
   "version": "3.10.11"
  },
  "orig_nbformat": 4,
  "vscode": {
   "interpreter": {
    "hash": "3147b5f9c6158a44fc6c92fdd5b7356dc6ea2dcc437edc0b017c6c528bc4e411"
   }
  }
 },
 "nbformat": 4,
 "nbformat_minor": 2
}

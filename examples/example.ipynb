{
 "cells": [
  {
   "cell_type": "code",
   "execution_count": null,
   "metadata": {},
   "outputs": [],
   "source": [
    "import sys\n",
    "from IPython.display import Image, display\n",
    "import sympy\n",
    "sys.path.append('..')   # path for local package\n",
    "import restflow\n",
    "from restflow import symvec"
   ]
  },
  {
   "attachments": {},
   "cell_type": "markdown",
   "metadata": {},
   "source": [
    "# Example 1: Burgers-KPZ equation"
   ]
  },
  {
   "attachments": {},
   "cell_type": "markdown",
   "metadata": {},
   "source": [
    "The KPZ equation is given by:\n",
    "\\begin{equation*}\n",
    "\\partial_t\\phi = \\kappa \\nabla^2\\phi + \\frac{\\lambda}{2} |\\nabla\\phi|^2  + \\eta\n",
    "\\end{equation*}\n",
    "By switching to Fourier space, the only non-zero vertex is:\n",
    "\\begin{equation*}\n",
    "\\cal{v}_2(\\bold{k_1}, \\bold{k_2}) = - \\frac{\\lambda}{2} \\bold{k_1} \\cdot \\bold{k_2}\n",
    "\\end{equation*}\n",
    "The only relevant one-loop graph correcting the propagator for this example is:"
   ]
  },
  {
   "cell_type": "code",
   "execution_count": null,
   "metadata": {},
   "outputs": [],
   "source": [
    "pil_img = Image(filename='./figures/kpz_graph.jpg')\n",
    "display(pil_img)"
   ]
  },
  {
   "attachments": {},
   "cell_type": "markdown",
   "metadata": {},
   "source": [
    "<b><ins>1st Step:</b></ins> Define the model parameters, the vectors, the propagators and the vertex functions:"
   ]
  },
  {
   "cell_type": "code",
   "execution_count": null,
   "metadata": {},
   "outputs": [],
   "source": [
    "# parameters of model\n",
    "lam, kap, D = sympy.symbols('lambda kappa D')\n",
    "alpha, a = 0, 0\n",
    "# dimension and reduced surface area\n",
    "d, Kd = sympy.symbols('d K_d')\n",
    "# symbols for vectors\n",
    "_q, _k, dot_kq = sympy.symbols('q k (k·q)')\n",
    "\n",
    "# assign symbol for dot product\n",
    "symvec.dots[frozenset((_q,_k))] = dot_kq\n",
    "# create symbolic vectors\n",
    "k = symvec.Vector(_k)\n",
    "q = symvec.Vector(_q)\n",
    "def f(x, alpha, a):\n",
    "    return (kap*x**2+a)*x**alpha\n",
    "\n",
    "# vertex functions v2(k1,k2|k)\n",
    "# def v2(k1,k2,k):\n",
    "#     return -lam/2*k1*k2\n",
    "def v2(k1,k2,k):\n",
    "    return (-lam*k1*k2,2)\n"
   ]
  },
  {
   "attachments": {},
   "cell_type": "markdown",
   "metadata": {},
   "source": [
    "<b><ins>2nd Step:</b></ins> Create the graph and visualizes it using `plot_graph`. Create a LaTeX file for nicer rendering using `latex_graph`:"
   ]
  },
  {
   "cell_type": "code",
   "execution_count": null,
   "metadata": {},
   "outputs": [],
   "source": [
    "v = [restflow.Vertex() for i in range(3)]\n",
    "v[0].link_vertex(v[2])\n",
    "v[0].link_vertex(v[1])\n",
    "v[1].link_vertex(v[2])\n",
    "v[1].add_outgoing()\n",
    "g = restflow.Graph(v)\n",
    "g.label_edges(k,[q])\n",
    "g.plot_graph()\n",
    "g.latex_graph('graph_plot')"
   ]
  },
  {
   "attachments": {},
   "cell_type": "markdown",
   "metadata": {},
   "source": [
    "<b><ins>3rd Step:</b></ins> Calculate the integral from the graph. Here we also change coordinates $\\mathbf{k} \\rightarrow \\mathbf{k}+\\mathbf{q}/2$:"
   ]
  },
  {
   "cell_type": "code",
   "execution_count": null,
   "metadata": {},
   "outputs": [],
   "source": [
    "g.label_edges(.5*q+k,[q])\n",
    "I = g.integral(f, D, .5*q+k, alpha, a, v2, v3=0)\n",
    "display(I[0]/I[1])"
   ]
  },
  {
   "attachments": {},
   "cell_type": "markdown",
   "metadata": {},
   "source": [
    "<b><ins>4th Step:</b></ins> Calculate the angular integral using `integrate2` and integrate over the magnitude of the wavevector using `integrate_magnitude`:"
   ]
  },
  {
   "cell_type": "code",
   "execution_count": null,
   "metadata": {},
   "outputs": [],
   "source": [
    "I = symvec.integrate2(I, k, q, d, n=3)\n",
    "display(I)\n",
    "I = symvec.integrate_magnitude(I, k, d)\n",
    "display(I)"
   ]
  },
  {
   "attachments": {},
   "cell_type": "markdown",
   "metadata": {},
   "source": [
    "This integral corrects the model parameter $\\kappa$. Performing the wavector integral and renormalizing it, we get:\n",
    "\n",
    "\\begin{equation*}\n",
    "\\psi_\\kappa = \\frac{D\\lambda^2 K_d \\Lambda^{d-2}}{\\kappa^3} \\frac{2-d}{4d}\n",
    "\\end{equation*}"
   ]
  },
  {
   "attachments": {},
   "cell_type": "markdown",
   "metadata": {},
   "source": [
    "# Example 2: Graph with 2 external legs"
   ]
  },
  {
   "attachments": {},
   "cell_type": "markdown",
   "metadata": {},
   "source": [
    "Assume we want to calculate contribution to correction of $\\lambda$ of the following graph (figure (a)) for the KPZ. \n",
    "\n",
    "This graph represents 2 graphs (figure (b) and (c)):"
   ]
  },
  {
   "cell_type": "code",
   "execution_count": null,
   "metadata": {},
   "outputs": [],
   "source": [
    "pil_img = Image(filename='./figures/2legs_example.jpg')\n",
    "display(pil_img)"
   ]
  },
  {
   "attachments": {},
   "cell_type": "markdown",
   "metadata": {},
   "source": [
    "Use the same system with before but we need to define the vector $p$ and the corresponding dot products:"
   ]
  },
  {
   "cell_type": "code",
   "execution_count": null,
   "metadata": {},
   "outputs": [],
   "source": [
    "_p, dot_pk, dot_qp = sympy.symbols('p (k·p) (q·p)')\n",
    "symvec.dots[frozenset((_q,_p))] = dot_qp\n",
    "symvec.dots[frozenset((_p,_k))] = dot_pk\n",
    "p = symvec.Vector(_p)"
   ]
  },
  {
   "attachments": {},
   "cell_type": "markdown",
   "metadata": {},
   "source": [
    "Create the graph:"
   ]
  },
  {
   "cell_type": "code",
   "execution_count": null,
   "metadata": {},
   "outputs": [],
   "source": [
    "v = [restflow.Vertex() for i in range(4)]\n",
    "v[0].link_vertex(v[1])\n",
    "v[0].link_vertex(v[2])\n",
    "v[2].link_vertex(v[3])\n",
    "v[3].link_vertex(v[1])\n",
    "v[2].add_outgoing()\n",
    "v[3].add_outgoing()\n",
    "g = restflow.Graph(v)\n",
    "g.plot_graph()"
   ]
  },
  {
   "attachments": {},
   "cell_type": "markdown",
   "metadata": {},
   "source": [
    "Use the function `integrals_symmet` to calculate all the permutations of the external momenta (figure (b) and (c)):"
   ]
  },
  {
   "cell_type": "code",
   "execution_count": null,
   "metadata": {},
   "outputs": [],
   "source": [
    "I_array = restflow.integrals.symmetrize(v, q, [p,q-p], f, D, k, alpha, a, v2, v3=0)"
   ]
  },
  {
   "attachments": {},
   "cell_type": "markdown",
   "metadata": {},
   "source": [
    "The integrands of the two figures are:"
   ]
  },
  {
   "cell_type": "code",
   "execution_count": null,
   "metadata": {},
   "outputs": [],
   "source": [
    "display(I_array[0][0]/I_array[0][1])\n",
    "display(I_array[1][0]/I_array[1][1])"
   ]
  },
  {
   "attachments": {},
   "cell_type": "markdown",
   "metadata": {},
   "source": [
    "Use the function `solve_integrals_symmet` to calculate the angular integrals and sum the two graphs:"
   ]
  },
  {
   "cell_type": "code",
   "execution_count": null,
   "metadata": {},
   "outputs": [],
   "source": [
    "I = restflow.integrals.solve(I_array, k, [q, p], d, n=3)\n",
    "display(I)"
   ]
  }
 ],
 "metadata": {
  "kernelspec": {
   "display_name": "Python 3",
   "language": "python",
   "name": "python3"
  },
  "language_info": {
   "codemirror_mode": {
    "name": "ipython",
    "version": 3
   },
   "file_extension": ".py",
   "mimetype": "text/x-python",
   "name": "python",
   "nbconvert_exporter": "python",
   "pygments_lexer": "ipython3",
   "version": "3.10.9"
  },
  "orig_nbformat": 4,
  "vscode": {
   "interpreter": {
    "hash": "aee8b7b246df8f9039afb4144a1f6fd8d2ca17a180786b69acc140d282b71a49"
   }
  }
 },
 "nbformat": 4,
 "nbformat_minor": 2
}

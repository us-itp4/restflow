{
 "cells": [
  {
   "cell_type": "code",
   "execution_count": null,
   "metadata": {},
   "outputs": [],
   "source": [
    "import sys\n",
    "from IPython.display import Image, display\n",
    "import sympy\n",
    "sys.path.append('..')   # path for local package\n",
    "import restflow\n",
    "from restflow import symvec"
   ]
  },
  {
   "attachments": {},
   "cell_type": "markdown",
   "metadata": {},
   "source": [
    "# Example 1: Burgers-KPZ equation"
   ]
  },
  {
   "attachments": {},
   "cell_type": "markdown",
   "metadata": {},
   "source": [
    "The KPZ equation is given by:\n",
    "\\begin{equation*}\n",
    "\\partial_t\\phi = \\kappa \\nabla^2\\phi + \\frac{\\lambda}{2} |\\nabla\\phi|^2  + \\eta\n",
    "\\end{equation*}\n",
    "By switching to Fourier space, the only non-zero vertex is:\n",
    "\\begin{equation*}\n",
    "\\cal{v}_2(\\bold{k_1}, \\bold{k_2}) = - \\frac{\\lambda}{2} \\bold{k_1} \\cdot \\bold{k_2}\n",
    "\\end{equation*}\n",
    "The only relevant one-loop graph correcting the propagator for this example is:"
   ]
  },
  {
   "cell_type": "code",
   "execution_count": null,
   "metadata": {},
   "outputs": [],
   "source": [
    "pil_img = Image(filename='./figures/kpz_graph.jpg')\n",
    "display(pil_img)"
   ]
  },
  {
   "attachments": {},
   "cell_type": "markdown",
   "metadata": {},
   "source": [
    "<b><ins>1st Step:</b></ins> Define the model parameters, the vectors, the propagators and the vertex functions:"
   ]
  },
  {
   "cell_type": "code",
   "execution_count": null,
   "metadata": {},
   "outputs": [],
   "source": [
    "# define the model\n",
    "class KPZ:\n",
    "    def __init__(self):\n",
    "        self.alpha = 0\n",
    "        self.lam, self.kap, self.D = sympy.symbols('lambda kappa D')\n",
    "\n",
    "    def f(self,k):\n",
    "        return self.kap*k**2\n",
    "\n",
    "    def v2(self,k1,k2,q):\n",
    "        return (-.5*self.lam*k1*k2,1)\n",
    "\n",
    "# dimension and reduced surface area\n",
    "d, Kd = sympy.symbols('d K_d')\n",
    "# symbols for vectors\n",
    "_q, _k, dot_kq = sympy.symbols('q k (k·q)')\n",
    "ctx = symvec.Context()\n",
    "ctx.add_dot(_q,_k,dot_kq)\n",
    "# create symbolic wave vectors\n",
    "k = ctx.vector(_k)\n",
    "q = ctx.vector(_q)\n",
    "\n",
    "model = KPZ()"
   ]
  },
  {
   "attachments": {},
   "cell_type": "markdown",
   "metadata": {},
   "source": [
    "<b><ins>2nd Step:</b></ins> Create the graph and visualizes it using `plot_graph`. Create a LaTeX file for nicer rendering using `latex_graph`:"
   ]
  },
  {
   "cell_type": "code",
   "execution_count": null,
   "metadata": {},
   "outputs": [],
   "source": [
    "v = [restflow.Vertex() for i in range(3)]\n",
    "v[0].link_vertex(v[2], 0.12)\n",
    "v[0].link_vertex(v[1], 0.0)\n",
    "v[1].link_vertex(v[2], 0.0)\n",
    "v[1].add_outgoing(0.0)\n",
    "g = restflow.Graph(v)\n",
    "g.label_edges(k,[q])\n",
    "g.plot_graph()\n",
    "g.export_latex_graph('graph_plot')"
   ]
  },
  {
   "attachments": {},
   "cell_type": "markdown",
   "metadata": {},
   "source": [
    "<b><ins>3rd Step:</b></ins> Calculate the integral from the graph. Here we also change coordinates $\\mathbf{k} \\rightarrow \\mathbf{k}+\\mathbf{q}/2$:"
   ]
  },
  {
   "cell_type": "code",
   "execution_count": null,
   "metadata": {},
   "outputs": [],
   "source": [
    "g.label_edges(.5*q+k,[q])\n",
    "nom,den = g.convert(model)\n",
    "display(nom/den)"
   ]
  },
  {
   "attachments": {},
   "cell_type": "markdown",
   "metadata": {},
   "source": [
    "<b><ins>4th Step:</b></ins> Calculate the angular integral using `integrate2` and integrate over the magnitude of the wavevector using `integrate_magnitude`:"
   ]
  },
  {
   "cell_type": "code",
   "execution_count": null,
   "metadata": {},
   "outputs": [],
   "source": [
    "I = (nom,den)\n",
    "I = symvec.integrate2(I, k, q, ctx, d, n=3)\n",
    "display(I)\n",
    "I = symvec.integrate_magnitude(I, k, d)\n",
    "display(I)"
   ]
  },
  {
   "attachments": {},
   "cell_type": "markdown",
   "metadata": {},
   "source": [
    "This integral corrects the model parameter $\\kappa$. Performing the wavector integral and renormalizing it, we get:\n",
    "\n",
    "\\begin{equation*}\n",
    "\\psi_\\kappa = \\frac{D\\lambda^2 K_d \\Lambda^{d-2}}{\\kappa^3} \\frac{2-d}{4d}\n",
    "\\end{equation*}"
   ]
  },
  {
   "attachments": {},
   "cell_type": "markdown",
   "metadata": {},
   "source": [
    "# Example 2: Graph with 2 external legs"
   ]
  },
  {
   "attachments": {},
   "cell_type": "markdown",
   "metadata": {},
   "source": [
    "Assume we want to calculate contribution to correction of $\\lambda$ of the following graph (figure (a)) for the KPZ. \n",
    "\n",
    "This graph represents 2 graphs (figure (b) and (c)):"
   ]
  },
  {
   "cell_type": "code",
   "execution_count": null,
   "metadata": {},
   "outputs": [],
   "source": [
    "pil_img = Image(filename='./figures/2legs_example.jpg')\n",
    "display(pil_img)"
   ]
  },
  {
   "attachments": {},
   "cell_type": "markdown",
   "metadata": {},
   "source": [
    "Use the same system with before but we need to define the vector $p$ and the corresponding dot products:"
   ]
  },
  {
   "cell_type": "code",
   "execution_count": null,
   "metadata": {},
   "outputs": [],
   "source": [
    "_p, dot_pk, dot_qp = sympy.symbols('p (k·p) (q·p)')\n",
    "ctx.add_dot(_p,_k,dot_pk)\n",
    "ctx.add_dot(_q,_p,dot_qp)\n",
    "# create symbolic wave vectors\n",
    "p = ctx.vector(_p)"
   ]
  },
  {
   "attachments": {},
   "cell_type": "markdown",
   "metadata": {},
   "source": [
    "Create the graph:"
   ]
  },
  {
   "cell_type": "code",
   "execution_count": null,
   "metadata": {},
   "outputs": [],
   "source": [
    "v = [restflow.Vertex() for i in range(4)]\n",
    "v[0].link_vertex(v[1], 0.12)\n",
    "v[0].link_vertex(v[2], 0.0)\n",
    "v[2].link_vertex(v[3], 0.0)\n",
    "v[3].link_vertex(v[1], 0.0)\n",
    "v[2].add_outgoing(-0.25)\n",
    "v[3].add_outgoing(0.0)"
   ]
  },
  {
   "attachments": {},
   "cell_type": "markdown",
   "metadata": {},
   "source": [
    "Use the function `integrals_symmet` to calculate all the permutations of the external momenta (figure (b) and (c)):"
   ]
  },
  {
   "cell_type": "code",
   "execution_count": null,
   "metadata": {},
   "outputs": [],
   "source": [
    "I_array = restflow.integrals.symmetrize(v, q, [p,q-p], k, model)"
   ]
  },
  {
   "attachments": {},
   "cell_type": "markdown",
   "metadata": {},
   "source": [
    "The integrands of the two figures are:"
   ]
  },
  {
   "cell_type": "code",
   "execution_count": null,
   "metadata": {},
   "outputs": [],
   "source": [
    "display(I_array[0][0]/I_array[0][1])\n",
    "display(I_array[1][0]/I_array[1][1])"
   ]
  },
  {
   "attachments": {},
   "cell_type": "markdown",
   "metadata": {},
   "source": [
    "Use the function `solve_integrals_symmet` to calculate the angular integrals and sum the two graphs:"
   ]
  },
  {
   "cell_type": "code",
   "execution_count": null,
   "metadata": {},
   "outputs": [],
   "source": [
    "I = restflow.integrals.solve(I_array, k, [q, p], ctx, d, n=3)\n",
    "display(I)"
   ]
  }
 ],
 "metadata": {
  "kernelspec": {
   "display_name": "Python 3",
   "language": "python",
   "name": "python3"
  },
  "language_info": {
   "codemirror_mode": {
    "name": "ipython",
    "version": 3
   },
   "file_extension": ".py",
   "mimetype": "text/x-python",
   "name": "python",
   "nbconvert_exporter": "python",
   "pygments_lexer": "ipython3",
   "version": "3.10.9"
  },
  "orig_nbformat": 4,
  "vscode": {
   "interpreter": {
    "hash": "3147b5f9c6158a44fc6c92fdd5b7356dc6ea2dcc437edc0b017c6c528bc4e411"
   }
  }
 },
 "nbformat": 4,
 "nbformat_minor": 2
}

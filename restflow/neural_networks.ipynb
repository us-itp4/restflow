{
 "cells": [
  {
   "cell_type": "code",
   "execution_count": 9,
   "metadata": {},
   "outputs": [],
   "source": [
    "import symvec\n",
    "from graph import *\n",
    "import sympy\n",
    "from sympy import *\n",
    "kap, c2, c3, D = sympy.symbols('kappa c2 c3 D')\n",
    "d, Kd = sympy.symbols('d K_d')\n",
    "alpha, a = 0, 0\n",
    "_q, _k, _p, dot_kq, dot_pk, dot_qp = sympy.symbols('q k p (k·q) (k·p) (q·p)')\n",
    "_r, dot_qr, dot_pr, dot_rk = sympy.symbols('r (q·r) (p·r) (r·k)')\n",
    "\n",
    "\n",
    "# assign symbol for dot product\n",
    "symvec.dots[frozenset((_q,_k))] = dot_kq\n",
    "symvec.dots[frozenset((_q,_p))] = dot_qp\n",
    "symvec.dots[frozenset((_p,_k))] = dot_pk\n",
    "symvec.dots[frozenset((_q,_r))] = dot_qr\n",
    "symvec.dots[frozenset((_p,_r))] = dot_pr\n",
    "symvec.dots[frozenset((_r,_k))] = dot_rk\n",
    "# create vectors\n",
    "k, q, p, r = symvec.Vector(_k), symvec.Vector(_q), symvec.Vector(_p), symvec.Vector(_r)\n",
    "\n",
    "def f(x, alpha, a):\n",
    "    return (kap*x**2+a)*x**alpha\n",
    "def v2(k1,k2,k):\n",
    "    expr = -c2*k**2\n",
    "    return fraction(cancel((expr)))\n",
    "\n",
    "def v3(k1,k2,k3,k):\n",
    "    return (-c3*k**2,1)\n",
    "\n",
    "def expand_vertex(expr, q):\n",
    "    \"\"\"\n",
    "    Expands the coefficients of the renormalized 2-vertex\n",
    "    Returns dictionary of the coefficients of the monomials\n",
    "    \"\"\"\n",
    "    return symvec.all_coeffs(expr,[q.sym])\n",
    "\n",
    "kapt, c1t, c2t, c3t, Dt = sympy.symbols('kappat c1t c2t c3t Dt')\n",
    "\n",
    "def v22(k1,k2,k):\n",
    "    expr = -c2t*k**2\n",
    "    return fraction(cancel((expr)))\n",
    "\n",
    "def v3t(k1,k2,k3,k):\n",
    "    return (-c3t*k**2,1)\n",
    "\n",
    "def compare_coeffs(dict1,dict_original,k,q,p):\n",
    "    \"\"\"\n",
    "    Returns equations between the renormalized model parameters and the original model parameters\n",
    "    \"\"\"\n",
    "    eqts = [0]*len(dict1)\n",
    "    i=0\n",
    "    for key in dict1:\n",
    "        eqts[i]= dict1.get(key) - dict_original.get(key)\n",
    "        i+=1\n",
    "    eqts = [i for i in eqts if i != 0]\n",
    "    return eqts\n",
    "\n",
    "def renormalize_vertex(expr,vertex,k,q,p,d):\n",
    "    \"\"\"\n",
    "    Matches the coefficients of the 2-vertex with the renormalized 2-vertex.\n",
    "    \"\"\"\n",
    "    coeffs=expand_vertex(expr,q)\n",
    "    coeffs_original = expand_vertex(vertex,q)\n",
    "    eqts= compare_coeffs(coeffs,coeffs_original,k,q,p)\n",
    "    if vertex == v2t(q,q,q):\n",
    "        return list(linsolve(eqts, [c2t]))[0]\n",
    "    elif vertex == v3t(q,q,q,q):\n",
    "        return list(linsolve(eqts, [c3t]))[0]\n",
    "\n"
   ]
  },
  {
   "attachments": {},
   "cell_type": "markdown",
   "metadata": {},
   "source": [
    "## Propagator Corrections"
   ]
  },
  {
   "cell_type": "code",
   "execution_count": 11,
   "metadata": {},
   "outputs": [
    {
     "data": {
      "image/png": "[encoded data removed]",
      "text/plain": [
       "<Figure size 600x600 with 1 Axes>"
      ]
     },
     "metadata": {},
     "output_type": "display_data"
    },
    {
     "data": {
      "text/latex": [
       "$\\displaystyle \\frac{2 D K_{d} \\Lambda^{d} c_{2}^{2} q^{2} δl}{\\Lambda^{2} \\kappa^{2}} - \\frac{3 D K_{d} \\Lambda^{d} c_{3} q^{2} δl}{\\Lambda^{2} \\kappa}$"
      ],
      "text/plain": [
       "2*D*K_d*Lambda**d*c2**2*q**2*δl/(Lambda**2*kappa**2) - 3*D*K_d*Lambda**d*c3*q**2*δl/(Lambda**2*kappa)"
      ]
     },
     "metadata": {},
     "output_type": "display_data"
    }
   ],
   "source": [
    "# figure 2c\n",
    "v = [Vertex() for i in range(3)]\n",
    "v[0].link_vertex(v[1])\n",
    "v[0].link_vertex(v[2])\n",
    "v[2].link_vertex(v[1])\n",
    "v[2].add_outgoing()\n",
    "I_array = integrals_symmet(v, q, [q], f, D, k, alpha, a, v2, v3)\n",
    "I2c = solve_integrals_symmet(I_array, k, [q], d, n=4)\n",
    "v = [Vertex() for i in range(2)]\n",
    "v[0].link_vertex(v[1])\n",
    "v[0].link_vertex(v[1])\n",
    "v[0].add_outgoing()\n",
    "I_array = integrals_symmet(v, q, [q], f, D, k, alpha, a, v2, v3)\n",
    "I3b = solve_integrals_symmet(I_array, k, [q], d, n=4)\n",
    "Iprop= I2c+I3b\n",
    "display(Iprop)"
   ]
  },
  {
   "attachments": {},
   "cell_type": "markdown",
   "metadata": {},
   "source": [
    "## 2-Vertex Corrections"
   ]
  },
  {
   "cell_type": "code",
   "execution_count": 3,
   "metadata": {},
   "outputs": [
    {
     "data": {
      "text/latex": [
       "$\\displaystyle - \\frac{4 D K_{d} \\Lambda^{d} c_{2}^{3} q^{2} δl}{\\Lambda^{2} \\kappa^{3}} + \\frac{9 D K_{d} \\Lambda^{d} c_{2} c_{3} q^{2} δl}{\\Lambda^{2} \\kappa^{2}}$"
      ],
      "text/plain": [
       "-4*D*K_d*Lambda**d*c2**3*q**2*δl/(Lambda**2*kappa**3) + 9*D*K_d*Lambda**d*c2*c3*q**2*δl/(Lambda**2*kappa**2)"
      ]
     },
     "metadata": {},
     "output_type": "display_data"
    }
   ],
   "source": [
    "v = [Vertex() for i in range(4)]\n",
    "v[0].link_vertex(v[1])\n",
    "v[0].link_vertex(v[2])\n",
    "v[1].link_vertex(v[3])\n",
    "v[2].link_vertex(v[3])\n",
    "v[1].add_outgoing()\n",
    "v[2].add_outgoing()\n",
    "I_array = integrals_symmet(v, q, [p,q-p], f, D, k, alpha, a,  v2, v3)\n",
    "Ia = solve_integrals_symmet(I_array, k, [q, p], d, n=3)\n",
    "v = [Vertex() for i in range(4)]\n",
    "v[0].link_vertex(v[1])\n",
    "v[0].link_vertex(v[2])\n",
    "v[2].link_vertex(v[3])\n",
    "v[3].link_vertex(v[1])\n",
    "v[2].add_outgoing()\n",
    "v[3].add_outgoing()\n",
    "I_array = integrals_symmet(v, q, [p,q-p], f, D, k, alpha, a,  v2, v3)\n",
    "Ib = solve_integrals_symmet(I_array, k, [q, p], d, n=3)\n",
    "v = [Vertex() for i in range(3)]\n",
    "v[0].link_vertex(v[1])\n",
    "v[0].link_vertex(v[2])\n",
    "v[2].link_vertex(v[1])\n",
    "v[2].add_outgoing()\n",
    "v[2].add_outgoing()\n",
    "I_array = integrals_symmet(v, q, [p,q-p], f, D, k, alpha, a,  v2, v3)\n",
    "Ic = solve_integrals_symmet(I_array, k, [q, p], d, n=3)\n",
    "v = [Vertex() for i in range(3)]\n",
    "v[0].link_vertex(v[1])\n",
    "v[0].link_vertex(v[2])\n",
    "v[2].link_vertex(v[1])\n",
    "v[0].add_outgoing()\n",
    "v[2].add_outgoing()\n",
    "I_array = integrals_symmet(v, q, [p,q-p], f, D, k, alpha, a,  v2, v3)\n",
    "Id = solve_integrals_symmet(I_array, k, [q, p], d, n=3)\n",
    "I2vert = Ia+Ib+Ic+Id\n",
    "display(I2vert)\n"
   ]
  },
  {
   "attachments": {},
   "cell_type": "markdown",
   "metadata": {},
   "source": [
    "## 3-Vertex Corrections"
   ]
  },
  {
   "cell_type": "code",
   "execution_count": 7,
   "metadata": {},
   "outputs": [
    {
     "data": {
      "text/latex": [
       "$\\displaystyle q^{2} \\cdot \\left(\\frac{5 D K_{d} \\Lambda^{d} c_{2}^{4} δl}{\\Lambda^{2} \\kappa^{4}} - \\frac{21 D K_{d} \\Lambda^{d} c_{2}^{2} c_{3} δl}{\\Lambda^{2} \\kappa^{3}} + \\frac{9 D K_{d} \\Lambda^{d} c_{3}^{2} δl}{\\Lambda^{2} \\kappa^{2}}\\right)$"
      ],
      "text/plain": [
       "q**2*(5*D*K_d*Lambda**d*c2**4*δl/(Lambda**2*kappa**4) - 21*D*K_d*Lambda**d*c2**2*c3*δl/(Lambda**2*kappa**3) + 9*D*K_d*Lambda**d*c3**2*δl/(Lambda**2*kappa**2))"
      ]
     },
     "metadata": {},
     "output_type": "display_data"
    }
   ],
   "source": [
    "# figure 3c\n",
    "v = [Vertex() for i in range(3)]\n",
    "v[0].link_vertex(v[1])\n",
    "v[0].link_vertex(v[2])\n",
    "v[2].link_vertex(v[1])\n",
    "v[0].add_outgoing()\n",
    "v[2].add_outgoing()\n",
    "v[2].add_outgoing()\n",
    "I_array = integrals_symmet(v, q, [p,r,q-p-r], f, D, k, alpha, a,  v2, v3)\n",
    "I_array = [(element[0].subs([(dot_qp,0), (dot_pk,0),(dot_qr,0), (dot_pr,0),(dot_rk,0),(p**2,0),(r**2,0)]), (element[1].subs([(dot_qp,0), (dot_pk,0),(dot_qr,0), (dot_pr,0),(dot_rk,0),(p**2,0),(r**2,0)]))) for element in I_array]\n",
    "I3c = solve_integrals_symmet(I_array, k, [q, p], d, n=3)\n",
    "# figure e\n",
    "v = [Vertex() for i in range(4)]\n",
    "v[0].link_vertex(v[1])\n",
    "v[1].link_vertex(v[2])\n",
    "v[0].link_vertex(v[3])\n",
    "v[3].link_vertex(v[2])\n",
    "v[0].add_outgoing()\n",
    "v[1].add_outgoing()\n",
    "v[3].add_outgoing()\n",
    "I_array = integrals_symmet(v, q, [p,r,q-p-r], f, D, k, alpha, a,  v2, v3)\n",
    "I_array = [(element[0].subs([(dot_qp,0), (dot_pk,0),(dot_qr,0), (dot_pr,0),(dot_rk,0),(p**2,0),(r**2,0)]), (element[1].subs([(dot_qp,0), (dot_pk,0),(dot_qr,0), (dot_pr,0),(dot_rk,0),(p**2,0),(r**2,0)]))) for element in I_array]\n",
    "Ie = solve_integrals_symmet(I_array, k, [q, p], d, n=3)\n",
    "# figure f\n",
    "v = [Vertex() for i in range(4)]\n",
    "v[0].link_vertex(v[1])\n",
    "v[0].link_vertex(v[2])\n",
    "v[2].link_vertex(v[3])\n",
    "v[3].link_vertex(v[1])\n",
    "v[0].add_outgoing()\n",
    "v[2].add_outgoing()\n",
    "v[3].add_outgoing()\n",
    "I_array = integrals_symmet(v, q, [p,r,q-p-r], f, D, k, alpha, a,  v2, v3)\n",
    "I_array = [(element[0].subs([(dot_qp,0), (dot_pk,0),(dot_qr,0), (dot_pr,0),(dot_rk,0),(p**2,0),(r**2,0)]), (element[1].subs([(dot_qp,0), (dot_pk,0),(dot_qr,0), (dot_pr,0),(dot_rk,0),(p**2,0),(r**2,0)]))) for element in I_array]\n",
    "If = solve_integrals_symmet(I_array, k, [q, p], d, n=3)\n",
    "# figure g\n",
    "v = [Vertex() for i in range(4)]\n",
    "v[0].link_vertex(v[1])\n",
    "v[1].link_vertex(v[2])\n",
    "v[0].link_vertex(v[3])\n",
    "v[3].link_vertex(v[2])\n",
    "v[1].add_outgoing()\n",
    "v[1].add_outgoing()\n",
    "v[3].add_outgoing()\n",
    "I_array = integrals_symmet(v, q, [p,r,q-p-r], f, D, k, alpha, a,  v2, v3)\n",
    "I_array = [(element[0].subs([(dot_qp,0), (dot_pk,0),(dot_qr,0), (dot_pr,0),(dot_rk,0),(p**2,0),(r**2,0)]), (element[1].subs([(dot_qp,0), (dot_pk,0),(dot_qr,0), (dot_pr,0),(dot_rk,0),(p**2,0),(r**2,0)]))) for element in I_array]\n",
    "Ig = solve_integrals_symmet(I_array, k, [q, p], d, n=3)\n",
    "# figure h\n",
    "v = [Vertex() for i in range(4)]\n",
    "v[0].link_vertex(v[1])\n",
    "v[0].link_vertex(v[2])\n",
    "v[2].link_vertex(v[3])\n",
    "v[3].link_vertex(v[1])\n",
    "v[3].add_outgoing()\n",
    "v[3].add_outgoing()\n",
    "v[2].add_outgoing()\n",
    "I_array = integrals_symmet(v, q, [p,r,q-p-r], f, D, k, alpha, a,  v2, v3)\n",
    "I_array = [(element[0].subs([(dot_qp,0), (dot_pk,0),(dot_qr,0), (dot_pr,0),(dot_rk,0),(p**2,0),(r**2,0)]), (element[1].subs([(dot_qp,0), (dot_pk,0),(dot_qr,0), (dot_pr,0),(dot_rk,0),(p**2,0),(r**2,0)]))) for element in I_array]\n",
    "Ih = solve_integrals_symmet(I_array, k, [q, p], d, n=3)\n",
    "# figure i\n",
    "v = [Vertex() for i in range(4)]\n",
    "v[0].link_vertex(v[1])\n",
    "v[0].link_vertex(v[2])\n",
    "v[2].link_vertex(v[3])\n",
    "v[3].link_vertex(v[1])\n",
    "v[2].add_outgoing()\n",
    "v[2].add_outgoing()\n",
    "v[3].add_outgoing()\n",
    "I_array = integrals_symmet(v, q, [p,r,q-p-r], f, D, k, alpha, a,  v2, v3)\n",
    "I_array = [(element[0].subs([(dot_qp,0), (dot_pk,0),(dot_qr,0), (dot_pr,0),(dot_rk,0),(p**2,0),(r**2,0)]), (element[1].subs([(dot_qp,0), (dot_pk,0),(dot_qr,0), (dot_pr,0),(dot_rk,0),(p**2,0),(r**2,0)]))) for element in I_array]\n",
    "Ii = solve_integrals_symmet(I_array, k, [q, p], d, n=3)\n",
    "# figure j\n",
    "v = [Vertex() for i in range(5)]\n",
    "v[0].link_vertex(v[1])\n",
    "v[1].link_vertex(v[2])\n",
    "v[2].link_vertex(v[3])\n",
    "v[0].link_vertex(v[4])\n",
    "v[4].link_vertex(v[3])\n",
    "v[1].add_outgoing()\n",
    "v[2].add_outgoing()\n",
    "v[4].add_outgoing()\n",
    "I_array = integrals_symmet(v, q, [p,r,q-p-r], f, D, k, alpha, a,  v2, v3)\n",
    "I_array = [(element[0].subs([(dot_qp,0), (dot_pk,0),(dot_qr,0), (dot_pr,0),(dot_rk,0),(p**2,0),(r**2,0)]), (element[1].subs([(dot_qp,0), (dot_pk,0),(dot_qr,0), (dot_pr,0),(dot_rk,0),(p**2,0),(r**2,0)]))) for element in I_array]\n",
    "Ij = solve_integrals_symmet(I_array, k, [q, p], d, n=3)\n",
    "# figure k\n",
    "v = [Vertex() for i in range(5)]\n",
    "v[0].link_vertex(v[1])\n",
    "v[0].link_vertex(v[2])\n",
    "v[2].link_vertex(v[3])\n",
    "v[3].link_vertex(v[4])\n",
    "v[4].link_vertex(v[1])\n",
    "v[2].add_outgoing()\n",
    "v[3].add_outgoing()\n",
    "v[4].add_outgoing()\n",
    "I_array = integrals_symmet(v, q, [p,r,q-r-p], f, D, k, alpha, a,  v2, v3)\n",
    "I_array = [(element[0].subs([(dot_qp,0), (dot_pk,0),(dot_qr,0), (dot_pr,0),(dot_rk,0),(p**2,0),(r**2,0)]), (element[1].subs([(dot_qp,0), (dot_pk,0),(dot_qr,0), (dot_pr,0),(dot_rk,0),(p**2,0),(r**2,0)]))) for element in I_array]\n",
    "Ik = solve_integrals_symmet(I_array, k, [q, p], d, n=3)\n",
    "I3vert=Poly(Ie+If+Ig+Ih+Ii+Ij+Ik+I3c,q.sym).as_expr()\n",
    "display(I3vert)"
   ]
  },
  {
   "attachments": {},
   "cell_type": "markdown",
   "metadata": {},
   "source": [
    "## Putting everything together"
   ]
  },
  {
   "cell_type": "code",
   "execution_count": 8,
   "metadata": {},
   "outputs": [
    {
     "data": {
      "text/latex": [
       "$\\displaystyle \\frac{2 D K_{d} \\Lambda^{d} c_{2}^{2} q^{2} δl}{\\Lambda^{2} \\kappa^{2}} - \\frac{3 D K_{d} \\Lambda^{d} c_{3} q^{2} δl}{\\Lambda^{2} \\kappa}$"
      ],
      "text/plain": [
       "2*D*K_d*Lambda**d*c2**2*q**2*δl/(Lambda**2*kappa**2) - 3*D*K_d*Lambda**d*c3*q**2*δl/(Lambda**2*kappa)"
      ]
     },
     "metadata": {},
     "output_type": "display_data"
    },
    {
     "data": {
      "text/latex": [
       "$\\displaystyle - \\frac{4 D K_{d} \\Lambda^{d} c_{2}^{3} q^{2} δl}{\\Lambda^{2} \\kappa^{3}} + \\frac{9 D K_{d} \\Lambda^{d} c_{2} c_{3} q^{2} δl}{\\Lambda^{2} \\kappa^{2}}$"
      ],
      "text/plain": [
       "-4*D*K_d*Lambda**d*c2**3*q**2*δl/(Lambda**2*kappa**3) + 9*D*K_d*Lambda**d*c2*c3*q**2*δl/(Lambda**2*kappa**2)"
      ]
     },
     "metadata": {},
     "output_type": "display_data"
    },
    {
     "data": {
      "text/latex": [
       "$\\displaystyle q^{2} \\cdot \\left(\\frac{5 D K_{d} \\Lambda^{d} c_{2}^{4} δl}{\\Lambda^{2} \\kappa^{4}} - \\frac{21 D K_{d} \\Lambda^{d} c_{2}^{2} c_{3} δl}{\\Lambda^{2} \\kappa^{3}} + \\frac{9 D K_{d} \\Lambda^{d} c_{3}^{2} δl}{\\Lambda^{2} \\kappa^{2}}\\right)$"
      ],
      "text/plain": [
       "q**2*(5*D*K_d*Lambda**d*c2**4*δl/(Lambda**2*kappa**4) - 21*D*K_d*Lambda**d*c2**2*c3*δl/(Lambda**2*kappa**3) + 9*D*K_d*Lambda**d*c3**2*δl/(Lambda**2*kappa**2))"
      ]
     },
     "metadata": {},
     "output_type": "display_data"
    }
   ],
   "source": [
    "display(Iprop)\n",
    "display(I2vert)\n",
    "display(I3vert)\n",
    "# sol_c2t = renormalize_vertex(I2vert,v2t(q,q,q),k,q,p,d)\n",
    "# psi_2=simplify(sol_c2t)\n",
    "# display(psi_2)\n",
    "# sol_c3t = renormalize_vertex(I3vert,v3t(q,q,q,q),k,q,p,d)\n",
    "# psi_3=simplify(sol_c3t)\n",
    "# display(psi_3)\n"
   ]
  }
 ],
 "metadata": {
  "kernelspec": {
   "display_name": "Python 3",
   "language": "python",
   "name": "python3"
  },
  "language_info": {
   "codemirror_mode": {
    "name": "ipython",
    "version": 3
   },
   "file_extension": ".py",
   "mimetype": "text/x-python",
   "name": "python",
   "nbconvert_exporter": "python",
   "pygments_lexer": "ipython3",
   "version": "3.10.9"
  },
  "orig_nbformat": 4,
  "vscode": {
   "interpreter": {
    "hash": "3147b5f9c6158a44fc6c92fdd5b7356dc6ea2dcc437edc0b017c6c528bc4e411"
   }
  }
 },
 "nbformat": 4,
 "nbformat_minor": 2
}
